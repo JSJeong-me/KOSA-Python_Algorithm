{
  "nbformat": 4,
  "nbformat_minor": 0,
  "metadata": {
    "colab": {
      "name": "Untitled11.ipynb",
      "provenance": [],
      "authorship_tag": "ABX9TyOsAeOVpHfnTHC7BrdAL4EX",
      "include_colab_link": true
    },
    "kernelspec": {
      "name": "python3",
      "display_name": "Python 3"
    },
    "language_info": {
      "name": "python"
    }
  },
  "cells": [
    {
      "cell_type": "markdown",
      "metadata": {
        "id": "view-in-github",
        "colab_type": "text"
      },
      "source": [
        "<a href=\"https://colab.research.google.com/github/JSJeong-me/KOSA-Python_Algorithm/blob/main/selection_sort.ipynb\" target=\"_parent\"><img src=\"https://colab.research.google.com/assets/colab-badge.svg\" alt=\"Open In Colab\"/></a>"
      ]
    },
    {
      "cell_type": "code",
      "metadata": {
        "id": "m8I5E-a0Q3Qu"
      },
      "source": [
        "data = [7, 4, 5, 9, 8, 2, 1]"
      ],
      "execution_count": 1,
      "outputs": []
    },
    {
      "cell_type": "code",
      "metadata": {
        "id": "1ZNOAwXJQ5In"
      },
      "source": [
        "def selection_sort(arr):\n",
        "  # Selection Sort\n",
        "  # arr --> unsorted array\n",
        "  \n",
        "  for i in range(len(arr)):\n",
        "    min_i = i\n",
        "    # find min index of unvisited elements\n",
        "    for j in range(i + 1, len(arr)):\n",
        "      if arr[j] < arr[min_i]:\n",
        "        min_i = j\n",
        "    \n",
        "    # swap values\n",
        "    arr[i], arr[min_i] = arr[min_i], arr[i]\n",
        "    \n",
        "  return arr"
      ],
      "execution_count": 2,
      "outputs": []
    },
    {
      "cell_type": "code",
      "metadata": {
        "id": "acRZpNyARJvT"
      },
      "source": [
        "sorted_data = selection_sort(data)"
      ],
      "execution_count": 3,
      "outputs": []
    },
    {
      "cell_type": "code",
      "metadata": {
        "colab": {
          "base_uri": "https://localhost:8080/"
        },
        "id": "NfIBi5k1RRoo",
        "outputId": "b70d82e0-01aa-467d-dd07-d1ab8039d81a"
      },
      "source": [
        "sorted_data"
      ],
      "execution_count": 4,
      "outputs": [
        {
          "output_type": "execute_result",
          "data": {
            "text/plain": [
              "[1, 2, 4, 5, 7, 8, 9]"
            ]
          },
          "metadata": {},
          "execution_count": 4
        }
      ]
    },
    {
      "cell_type": "code",
      "metadata": {
        "id": "htF3xFf9RVgJ"
      },
      "source": [
        ""
      ],
      "execution_count": null,
      "outputs": []
    }
  ]
}