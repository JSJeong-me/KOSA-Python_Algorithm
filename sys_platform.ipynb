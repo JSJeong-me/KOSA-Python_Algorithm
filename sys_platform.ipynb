{
  "nbformat": 4,
  "nbformat_minor": 0,
  "metadata": {
    "colab": {
      "name": "Untitled22.ipynb",
      "provenance": [],
      "authorship_tag": "ABX9TyPBgti01MZYbclRbCYXhkwJ",
      "include_colab_link": true
    },
    "kernelspec": {
      "name": "python3",
      "display_name": "Python 3"
    },
    "language_info": {
      "name": "python"
    }
  },
  "cells": [
    {
      "cell_type": "markdown",
      "metadata": {
        "id": "view-in-github",
        "colab_type": "text"
      },
      "source": [
        "<a href=\"https://colab.research.google.com/github/JSJeong-me/KOSA-Python_Algorithm/blob/main/sys_platform.ipynb\" target=\"_parent\"><img src=\"https://colab.research.google.com/assets/colab-badge.svg\" alt=\"Open In Colab\"/></a>"
      ]
    },
    {
      "cell_type": "code",
      "source": [
        "import sys\n",
        "import platform"
      ],
      "metadata": {
        "id": "XR_6ronOG-W_"
      },
      "execution_count": null,
      "outputs": []
    },
    {
      "cell_type": "markdown",
      "source": [
        "https://docs.python.org/ko/3/library/sys.html?highlight=sys#module-sys\n"
      ],
      "metadata": {
        "id": "dTm_AdrkIh1d"
      }
    },
    {
      "cell_type": "code",
      "execution_count": null,
      "metadata": {
        "id": "LJn3zoR-G2uv"
      },
      "outputs": [],
      "source": [
        "sys.version"
      ]
    },
    {
      "cell_type": "markdown",
      "source": [
        "https://docs.python.org/ko/3/library/platform.html\n"
      ],
      "metadata": {
        "id": "ACBJlp4GIeQ0"
      }
    },
    {
      "cell_type": "code",
      "source": [
        "platform.machine()"
      ],
      "metadata": {
        "id": "zUALA6f-IIH2"
      },
      "execution_count": null,
      "outputs": []
    },
    {
      "cell_type": "code",
      "source": [
        "platform.system()"
      ],
      "metadata": {
        "id": "EkDVdk0cISse"
      },
      "execution_count": null,
      "outputs": []
    }
  ]
}