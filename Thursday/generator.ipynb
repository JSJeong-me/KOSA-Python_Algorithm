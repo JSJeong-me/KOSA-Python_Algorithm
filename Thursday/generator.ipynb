{
  "nbformat": 4,
  "nbformat_minor": 0,
  "metadata": {
    "colab": {
      "name": "Untitled66.ipynb",
      "provenance": [],
      "authorship_tag": "ABX9TyPV5R53StG4uphDjhJqzrP3",
      "include_colab_link": true
    },
    "kernelspec": {
      "name": "python3",
      "display_name": "Python 3"
    },
    "language_info": {
      "name": "python"
    }
  },
  "cells": [
    {
      "cell_type": "markdown",
      "metadata": {
        "id": "view-in-github",
        "colab_type": "text"
      },
      "source": [
        "<a href=\"https://colab.research.google.com/github/JSJeong-me/KOSA-Python_Algorithm/blob/main/Thursday/generator.ipynb\" target=\"_parent\"><img src=\"https://colab.research.google.com/assets/colab-badge.svg\" alt=\"Open In Colab\"/></a>"
      ]
    },
    {
      "cell_type": "markdown",
      "source": [
        "### Generators in Python\n",
        "Generators in Python allow you to generate sequences. Instead of writing a return statement, a generator returns multiple values via multiple yield statements. The first call to the function returns the first value from yield. The second call returns the second value from yield and so on.\n",
        "\n",
        "The generator function can be invoked via next().Every time next() is called the next yield value is returned. An example of generating the Fibonacci sequence up till a given number x is shown below."
      ],
      "metadata": {
        "id": "TD6ZxydIRiKH"
      }
    },
    {
      "cell_type": "code",
      "execution_count": 1,
      "metadata": {
        "colab": {
          "base_uri": "https://localhost:8080/"
        },
        "id": "zsNZY1zcRQyj",
        "outputId": "3cf9c498-e022-4b99-9418-9aeff00f4074"
      },
      "outputs": [
        {
          "output_type": "stream",
          "name": "stdout",
          "text": [
            "0\n",
            "1\n",
            "1\n",
            "2\n",
            "3\n",
            "5\n"
          ]
        }
      ],
      "source": [
        "def get_fibonacci(x):\n",
        "    x0 = 0\n",
        "    x1 = 1\n",
        "    for i in range(x):\n",
        "        yield x0\n",
        "        temp = x0 + x1\n",
        "        x0 = x1\n",
        "        x1 = temp\n",
        "\n",
        "\n",
        "f = get_fibonacci(6)\n",
        "for i in range(6):\n",
        "    print(next(f))"
      ]
    }
  ]
}