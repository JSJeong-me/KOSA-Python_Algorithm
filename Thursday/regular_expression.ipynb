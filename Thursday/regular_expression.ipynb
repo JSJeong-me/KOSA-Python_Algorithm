{
  "cells": [
    {
      "cell_type": "markdown",
      "metadata": {
        "id": "view-in-github",
        "colab_type": "text"
      },
      "source": [
        "<a href=\"https://colab.research.google.com/github/JSJeong-me/KOSA-Python_Algorithm/blob/main/Thursday/regular_expression.ipynb\" target=\"_parent\"><img src=\"https://colab.research.google.com/assets/colab-badge.svg\" alt=\"Open In Colab\"/></a>"
      ]
    },
    {
      "cell_type": "markdown",
      "metadata": {
        "id": "EFbtVnRsKlF0"
      },
      "source": [
        "#### <span style=\"color:yellow\">정규 표현식(Regular Expression)</span>\n",
        "  - [Regular Expresion online for PYthon] https://regex101.com\n",
        "  - 기계학습에서 데이타 전처리라는 골치아프고 시간이 많이 소요는 과정을 거칩니다.\n",
        "  - 특히, 텍스트 전처리의 경우 정규표현식을 활용하면 많은 시간낭비를 줄일 수 있습니다.\n",
        "  - 다음에 정리한 것은 wikidoc.net 책자에서 정리한 것입니다.\n",
        "  - 정규표현식을 완전히 익히고 잘 다루려면 많은 연습이 필요합니다.\n",
        "  - 그래서 이 연습을 하기 위한 기본 1장 1절을 정리한 것이나 아주 유용합니다.\n",
        "  - 간단하지만 시간이 지나면 바로 잊어버리는 것이 정규표현식입니다.\n",
        "  - 시간이 날때마다 지속적으로 또는 주기적으로 들어와 기본을 익히시기 바랍니다.\n",
        "  - 그러면 어느 순간 정규표현식을 아주 자유롭게 다룰 수 있습니다.\n",
        "  - 그 날이 올때까지 보고 또 보고 심심할 때마다 응용하는 연습을 하시기 바랍니다.\n",
        "----"
      ]
    },
    {
      "cell_type": "code",
      "execution_count": 1,
      "metadata": {
        "id": "CrKEMYhsKlF5"
      },
      "outputs": [],
      "source": [
        "import re             # 정규 표현식 모듈 re"
      ]
    },
    {
      "cell_type": "markdown",
      "metadata": {
        "id": "DySYfV-XKlF7"
      },
      "source": [
        "----\n",
        "##### 1) <span style=\"color:yellow\">. 기호</span>\n",
        "   - .은 한 개의 임의의 문자를 나타냄 "
      ]
    },
    {
      "cell_type": "code",
      "execution_count": 2,
      "metadata": {
        "id": "26kLhMQlKlF7"
      },
      "outputs": [],
      "source": [
        "r = re.compile(\"a.c\") # a와 c 사이에는 어떤 1개의 문자라도 올 수 있다. "
      ]
    },
    {
      "cell_type": "code",
      "execution_count": 3,
      "metadata": {
        "id": "MJ4SIYNJKlF7"
      },
      "outputs": [],
      "source": [
        "r.search(\"kkk\")       # 아무런 결과도 출력되지 않는다."
      ]
    },
    {
      "cell_type": "code",
      "execution_count": 4,
      "metadata": {
        "id": "kPeOS4g_KlF8",
        "outputId": "9a4fd9ce-64e9-42ae-b7ce-b40bc6b2568a",
        "colab": {
          "base_uri": "https://localhost:8080/"
        }
      },
      "outputs": [
        {
          "output_type": "execute_result",
          "data": {
            "text/plain": [
              "<re.Match object; span=(0, 3), match='abc'>"
            ]
          },
          "metadata": {},
          "execution_count": 4
        }
      ],
      "source": [
        "r.search(\"abc\")"
      ]
    },
    {
      "cell_type": "markdown",
      "metadata": {
        "id": "e9NDdTKUKlF8"
      },
      "source": [
        "----\n",
        "##### 2) <span style=\"color:yellow\">? 기호</span>\n",
        "  - ?는 ? 앞의 문자가 존재할 수도 있고, 존재하지 않을 수도 있는 경우 표현"
      ]
    },
    {
      "cell_type": "code",
      "execution_count": 5,
      "metadata": {
        "id": "1vW8vmxzKlF8"
      },
      "outputs": [],
      "source": [
        "r = re.compile(\"ab?c\")   # b는 있다고 취급할 수도 있고, 없다고 취급 할 수도"
      ]
    },
    {
      "cell_type": "code",
      "execution_count": 6,
      "metadata": {
        "id": "8rMMGcspKlF9"
      },
      "outputs": [],
      "source": [
        "r.search(\"abbc\")         # 아무런 결과도 출력되지 않는다."
      ]
    },
    {
      "cell_type": "code",
      "execution_count": 7,
      "metadata": {
        "id": "QJboWJOxKlF-",
        "outputId": "fd14aadf-0f61-4ebc-cd64-060bfc222b8e",
        "colab": {
          "base_uri": "https://localhost:8080/"
        }
      },
      "outputs": [
        {
          "output_type": "stream",
          "name": "stdout",
          "text": [
            "<re.Match object; span=(0, 3), match='abc'>\n"
          ]
        }
      ],
      "source": [
        "print(r.search(\"abc\"))"
      ]
    },
    {
      "cell_type": "code",
      "execution_count": 8,
      "metadata": {
        "id": "L8l_sJCZKlF-"
      },
      "outputs": [],
      "source": [
        "  # b가 있는 것으로 판단하여 abc를 매치"
      ]
    },
    {
      "cell_type": "code",
      "execution_count": 9,
      "metadata": {
        "id": "4XG0N7WQKlF-",
        "outputId": "e7420b09-cea4-4ad7-c4b2-dcbf476a4d2a",
        "colab": {
          "base_uri": "https://localhost:8080/"
        }
      },
      "outputs": [
        {
          "output_type": "stream",
          "name": "stdout",
          "text": [
            "<re.Match object; span=(0, 2), match='ac'>\n"
          ]
        }
      ],
      "source": [
        "print(r.search(\"ac\")) "
      ]
    },
    {
      "cell_type": "code",
      "execution_count": 10,
      "metadata": {
        "id": "-0gTD1v0KlF-",
        "outputId": "7f794772-8cc6-4d41-ab88-b451db6ffab1",
        "colab": {
          "base_uri": "https://localhost:8080/"
        }
      },
      "outputs": [
        {
          "output_type": "stream",
          "name": "stdout",
          "text": [
            "None\n"
          ]
        }
      ],
      "source": [
        "print(r.search(\"bc\"))   # b가 없는 것으로 판단하여 ac를 매치"
      ]
    },
    {
      "cell_type": "code",
      "execution_count": 11,
      "metadata": {
        "id": "zKpc1fmIKlF_",
        "outputId": "01311692-821c-4240-8a7f-d3517bae8957",
        "colab": {
          "base_uri": "https://localhost:8080/"
        }
      },
      "outputs": [
        {
          "output_type": "execute_result",
          "data": {
            "text/plain": [
              "<re.Match object; span=(0, 3), match='abc'>"
            ]
          },
          "metadata": {},
          "execution_count": 11
        }
      ],
      "source": [
        "re.search(\"ab?c\", \"abc\") # 미리 컴파일하지 않고 그때 그때(속도 느림)"
      ]
    },
    {
      "cell_type": "markdown",
      "metadata": {
        "id": "KjbepdsPKlF_"
      },
      "source": [
        "----\n",
        "##### 3) <span style=\"color:yellow\">* 기호</span>\n",
        "  - *은 바로 앞의 문자가 0개 이상일 경우를 표현"
      ]
    },
    {
      "cell_type": "code",
      "execution_count": 12,
      "metadata": {
        "id": "X_r7WYtoKlF_"
      },
      "outputs": [],
      "source": [
        "r = re.compile(\"ab*c\")\n",
        "r.search(\"a\")              # 아무런 결과도 출력되지 않는다."
      ]
    },
    {
      "cell_type": "code",
      "execution_count": 13,
      "metadata": {
        "id": "2ZJKjDo7KlF_",
        "outputId": "805ca96f-72b0-4f25-f389-797b8f9a8bae",
        "colab": {
          "base_uri": "https://localhost:8080/"
        }
      },
      "outputs": [
        {
          "output_type": "stream",
          "name": "stdout",
          "text": [
            "<re.Match object; span=(0, 2), match='ac'>\n"
          ]
        }
      ],
      "source": [
        "print(r.search(\"ac\")) "
      ]
    },
    {
      "cell_type": "code",
      "execution_count": 14,
      "metadata": {
        "id": "EKN7j_NUKlGA",
        "outputId": "b4578aab-c751-4c36-9a5f-42fadf51217e",
        "colab": {
          "base_uri": "https://localhost:8080/"
        }
      },
      "outputs": [
        {
          "output_type": "stream",
          "name": "stdout",
          "text": [
            "<re.Match object; span=(0, 3), match='abc'>\n"
          ]
        }
      ],
      "source": [
        "     # b가 0 개\n",
        "print(r.search(\"abc\")) "
      ]
    },
    {
      "cell_type": "code",
      "execution_count": 15,
      "metadata": {
        "id": "zrTu5RskKlGA",
        "outputId": "205225fb-7645-40e6-c597-bfa6e34461e7",
        "colab": {
          "base_uri": "https://localhost:8080/"
        }
      },
      "outputs": [
        {
          "output_type": "stream",
          "name": "stdout",
          "text": [
            "<re.Match object; span=(0, 6), match='abbbbc'>\n"
          ]
        }
      ],
      "source": [
        "    # b가 1 개\n",
        "print(r.search(\"abbbbc\"))  # b가 4 개"
      ]
    },
    {
      "cell_type": "markdown",
      "metadata": {
        "id": "b5htg6rKKlGA"
      },
      "source": [
        "##### 4) <span style=\"color:yellow\">+ 기호</span>\n",
        "  - +은 바로 앞의 문자가 1개 이상일 경우를 표현"
      ]
    },
    {
      "cell_type": "code",
      "execution_count": 16,
      "metadata": {
        "id": "aoWIcecqKlGA"
      },
      "outputs": [],
      "source": [
        "r = re.compile(\"ab+c\")\n",
        "r.search(\"ac\")            # 아무런 결과도 출력되지 않는다."
      ]
    },
    {
      "cell_type": "code",
      "execution_count": 17,
      "metadata": {
        "id": "EEIWeus6KlGA",
        "outputId": "efae14d8-1697-48c0-d6d6-166f00a945dd",
        "colab": {
          "base_uri": "https://localhost:8080/"
        }
      },
      "outputs": [
        {
          "output_type": "stream",
          "name": "stdout",
          "text": [
            "<re.Match object; span=(0, 3), match='abc'>\n",
            "<re.Match object; span=(0, 6), match='abbbbc'>\n"
          ]
        }
      ],
      "source": [
        "print(r.search(\"abc\"))     # b가 1 개\n",
        "print(r.search(\"abbbbc\"))  # b가 4 개"
      ]
    },
    {
      "cell_type": "markdown",
      "metadata": {
        "id": "ZH_UqJzJKlGA"
      },
      "source": [
        "----\n",
        "##### 5) <span style=\"color:yellow\">^ 기호</span>\n",
        "  - ^는 시작되는 글자를 지정"
      ]
    },
    {
      "cell_type": "code",
      "execution_count": 18,
      "metadata": {
        "id": "NwCuG8GAKlGB"
      },
      "outputs": [],
      "source": [
        "r = re.compile(\"^a\")\n",
        "r.search(\"bbc\")            # 아무런 결과도 출력되지 않는다."
      ]
    },
    {
      "cell_type": "code",
      "execution_count": 19,
      "metadata": {
        "id": "B6KCEBYjKlGB",
        "outputId": "21f47150-5117-48a6-e811-5015b5838bd7",
        "colab": {
          "base_uri": "https://localhost:8080/"
        }
      },
      "outputs": [
        {
          "output_type": "execute_result",
          "data": {
            "text/plain": [
              "<re.Match object; span=(0, 1), match='a'>"
            ]
          },
          "metadata": {},
          "execution_count": 19
        }
      ],
      "source": [
        "r.search(\"ab\")             # a로 시작되는 문자열만을 찾아냅니다."
      ]
    },
    {
      "cell_type": "markdown",
      "metadata": {
        "id": "mbZoBCq-KlGB"
      },
      "source": [
        "----\n",
        "##### 6) <span style=\"color:yellow\">{숫자} 기호</span>\n",
        "  - 문자에 해당 기호를 붙이면, 해당 문자를 숫자만큼 반복한 것을 표현"
      ]
    },
    {
      "cell_type": "code",
      "execution_count": 20,
      "metadata": {
        "id": "JNL7_wNmKlGB"
      },
      "outputs": [],
      "source": [
        "# a와 c 사이에 b가 존재하면서 b가 2개인 문자열에 대해서 매치\n",
        "r = re.compile(\"ab{2}c\")\n",
        "\n",
        "r.search(\"ac\")              # 아무런 결과도 출력되지 않는다.\n",
        "r.search(\"abc\")             # 아무런 결과도 출력되지 않는다."
      ]
    },
    {
      "cell_type": "code",
      "execution_count": 21,
      "metadata": {
        "id": "sGxeoFyrKlGB",
        "outputId": "14735f9b-119d-4e03-d58e-8d8e754a73a3",
        "colab": {
          "base_uri": "https://localhost:8080/"
        }
      },
      "outputs": [
        {
          "output_type": "stream",
          "name": "stdout",
          "text": [
            "<re.Match object; span=(0, 4), match='abbc'>\n",
            "None\n"
          ]
        }
      ],
      "source": [
        "print(r.search(\"abbc\"))     # b기 정확하게 2개 나오면 메치\n",
        "print(r.search(\"abbbbbc\"))  # 아무런 결과도 출력되지 않는다"
      ]
    },
    {
      "cell_type": "markdown",
      "metadata": {
        "id": "4MaiZO-AKlGB"
      },
      "source": [
        "----\n",
        "##### 7) <span style=\"color:yellow\"> {숫자1, 숫자2} 기호</span>\n",
        "  - 해당 문자를 숫자1 이상 숫자2 이하만큼 반복하면 매치"
      ]
    },
    {
      "cell_type": "code",
      "execution_count": 22,
      "metadata": {
        "id": "HvyDt4NSKlGB"
      },
      "outputs": [],
      "source": [
        "r = re.compile(\"ab{2,8}c\")\n",
        "\n",
        "r.search(\"ac\")            # 아무런 결과도 출력되지 않는다.\n",
        "r.search(\"ac\")            # 아무런 결과도 출력되지 않는다.\n",
        "r.search(\"abc\")           # 아무런 결과도 출력되지 않는다."
      ]
    },
    {
      "cell_type": "code",
      "execution_count": 23,
      "metadata": {
        "id": "XSw_6xyhKlGC",
        "outputId": "c5411a9e-25db-45ad-ff39-35f9c312b7d0",
        "colab": {
          "base_uri": "https://localhost:8080/"
        }
      },
      "outputs": [
        {
          "output_type": "stream",
          "name": "stdout",
          "text": [
            "<re.Match object; span=(0, 4), match='abbc'>\n",
            "<re.Match object; span=(0, 10), match='abbbbbbbbc'>\n"
          ]
        }
      ],
      "source": [
        "print(r.search(\"abbc\"))        # b가 2개\n",
        "print(r.search(\"abbbbbbbbc\"))  # b가 8개"
      ]
    },
    {
      "cell_type": "code",
      "execution_count": 24,
      "metadata": {
        "id": "ie07f3CVKlGC"
      },
      "outputs": [],
      "source": [
        "r.search(\"abbbbbbbbbc\") # 아무런 결과도 출력되지 않는다."
      ]
    },
    {
      "cell_type": "markdown",
      "metadata": {
        "id": "r3e5-IT_KlGC"
      },
      "source": [
        "----\n",
        "##### 8) <span style=\"color:yellow\"> {숫자1,} 기호</span>\n",
        "  - 해당 문자를 숫자1 이상 만큼 반복하면 매치"
      ]
    },
    {
      "cell_type": "code",
      "execution_count": 25,
      "metadata": {
        "id": "CdCeUVw5KlGC"
      },
      "outputs": [],
      "source": [
        "r=re.compile(\"a{2,}bc\")\n",
        "\n",
        "r.search(\"bc\") # 아무런 결과도 출력되지 않는다.\n",
        "r.search(\"aa\") # 아무런 결과도 출력되지 않는다."
      ]
    },
    {
      "cell_type": "code",
      "execution_count": 26,
      "metadata": {
        "id": "RFqfBfqqKlGC",
        "outputId": "8c00d0bd-9ce0-4bda-e3d2-adbf129a5343",
        "colab": {
          "base_uri": "https://localhost:8080/"
        }
      },
      "outputs": [
        {
          "output_type": "stream",
          "name": "stdout",
          "text": [
            "<re.Match object; span=(0, 4), match='aabc'>\n",
            "<re.Match object; span=(0, 10), match='aaaaaaaabc'>\n"
          ]
        }
      ],
      "source": [
        "print(r.search(\"aabc\"))         # a가 2개 이어서 bc 매치\n",
        "print(r.search(\"aaaaaaaabc\"))   # a가 8개 이어서 bc 매치"
      ]
    },
    {
      "cell_type": "markdown",
      "metadata": {
        "id": "ZpT3iG47KlGC"
      },
      "source": [
        "----\n",
        "##### 9) <span style=\"color:yellow\"> [ ] 기호</span>\n",
        "  - [ ]안에 문자들을 넣으면 그 문자들 중 한 개의 문자와 매치라는 의미"
      ]
    },
    {
      "cell_type": "code",
      "execution_count": 27,
      "metadata": {
        "id": "SR8ucSITKlGC"
      },
      "outputs": [],
      "source": [
        "r  = re.compile(\"[abc]\")    # [abc]는 [a-c]와 같다.\n",
        "r.search(\"zzz\")             # 아무런 결과도 출력되지 않는다."
      ]
    },
    {
      "cell_type": "code",
      "execution_count": 28,
      "metadata": {
        "id": "E_W7yH-wKlGD",
        "outputId": "1e23c00f-6024-4a2f-e86e-a684b72dc628",
        "colab": {
          "base_uri": "https://localhost:8080/"
        }
      },
      "outputs": [
        {
          "output_type": "stream",
          "name": "stdout",
          "text": [
            "<re.Match object; span=(0, 1), match='a'>\n",
            "<re.Match object; span=(0, 1), match='a'>\n",
            "<re.Match object; span=(0, 1), match='b'>\n",
            "<re.Match object; span=(0, 1), match='c'>\n",
            "<re.Match object; span=(0, 1), match='a'>\n",
            "None\n"
          ]
        }
      ],
      "source": [
        "print(r.search(\"a\"))\n",
        "print(r.search(\"aaaaaaa\"))\n",
        "print(r.search(\"baac\"))\n",
        "print(r.search(\"cbaa\"))\n",
        "print(r.search(\"aBC\"))\n",
        "print(r.search(\"111\"))       # 아무런 결과도 출력되지 않는다."
      ]
    },
    {
      "cell_type": "markdown",
      "metadata": {
        "id": "SrLGohd-KlGD"
      },
      "source": [
        "----\n",
        "##### 10) <span style=\"color:yellow\"> [^문자] 기호</span>\n",
        "  - [^문자]는 5)에서 설명한 ^와는 완전히 다른 의미\n",
        "  - 여기서는 ^ 기호 뒤에 붙은 문자들을 제외한 모든 문자를 매치"
      ]
    },
    {
      "cell_type": "code",
      "execution_count": 29,
      "metadata": {
        "id": "AXzgketWKlGD"
      },
      "outputs": [],
      "source": [
        "# a 또는 b 또는 c가 들어간 문자열을 제외한 모든 문자열을 매치합니다.\n",
        "r = re.compile(\"[^abc]\")\n",
        "\n",
        "r.search(\"a\")  # 아무런 결과도 출력되지 않는다.\n",
        "r.search(\"ab\") # 아무런 결과도 출력되지 않는다.\n",
        "r.search(\"b\")  # 아무런 결과도 출력되지 않는다."
      ]
    },
    {
      "cell_type": "code",
      "execution_count": 30,
      "metadata": {
        "id": "UowzNO04KlGD",
        "outputId": "f6329a8d-3005-4afd-b05c-6934a3ec3658",
        "colab": {
          "base_uri": "https://localhost:8080/"
        }
      },
      "outputs": [
        {
          "output_type": "stream",
          "name": "stdout",
          "text": [
            "<re.Match object; span=(0, 1), match='d'>\n",
            "<re.Match object; span=(0, 1), match='1'>\n",
            "<re.Match object; span=(0, 1), match='X'>\n"
          ]
        }
      ],
      "source": [
        "print(r.search(\"d\"))\n",
        "print(r.search(\"1\"))\n",
        "print(r.search(\"X\") )"
      ]
    },
    {
      "cell_type": "markdown",
      "metadata": {
        "id": "-DrZXRf2KlGD"
      },
      "source": [
        "____\n",
        "#### <span style=\"color:yellow\"> 정규 표현식 모듈 함수 예제</span>\n",
        "----"
      ]
    },
    {
      "cell_type": "markdown",
      "metadata": {
        "id": "so63gQjMKlGD"
      },
      "source": [
        "##### (1) <span style=\"color:yellow\"> re.match() 와 re.search()의 차이</span>\n",
        "  - search()가 정규 표현식 전체에 대해서 문자열이 매치하는지를 본다면, match()는 문자열의 첫 부분부터 정규 표현식과 매치하는지를 확인합니다. \n",
        "  - 문자열 중간에 찾을 패턴이 있다고 하더라도, match 함수는 문자열의 시작에서 패턴이 일치하지 않으면 찾지 않습니다."
      ]
    },
    {
      "cell_type": "code",
      "execution_count": 31,
      "metadata": {
        "id": "4VM6CcRGKlGD"
      },
      "outputs": [],
      "source": [
        "import re\n",
        "r = re.compile(\"ab.\")"
      ]
    },
    {
      "cell_type": "code",
      "execution_count": 32,
      "metadata": {
        "id": "ueWmTYm7KlGD",
        "outputId": "24e4b2da-1015-4586-fcac-839ef6fb5c0e",
        "colab": {
          "base_uri": "https://localhost:8080/"
        }
      },
      "outputs": [
        {
          "output_type": "execute_result",
          "data": {
            "text/plain": [
              "<re.Match object; span=(3, 6), match='abc'>"
            ]
          },
          "metadata": {},
          "execution_count": 32
        }
      ],
      "source": [
        "r.search(\"kkkabc\")  "
      ]
    },
    {
      "cell_type": "code",
      "execution_count": 33,
      "metadata": {
        "id": "f1umcZCyKlGD"
      },
      "outputs": [],
      "source": [
        "r.match(\"kkkabc\")  #아무런 결과도 출력되지 않는다."
      ]
    },
    {
      "cell_type": "code",
      "execution_count": 34,
      "metadata": {
        "id": "WXG5HhGSKlGE",
        "outputId": "11d7d439-efaa-4fe0-b652-60bdb3827144",
        "colab": {
          "base_uri": "https://localhost:8080/"
        }
      },
      "outputs": [
        {
          "output_type": "execute_result",
          "data": {
            "text/plain": [
              "<re.Match object; span=(0, 3), match='abc'>"
            ]
          },
          "metadata": {},
          "execution_count": 34
        }
      ],
      "source": [
        "r.match(\"abckkk\")  "
      ]
    },
    {
      "cell_type": "markdown",
      "metadata": {
        "id": "Wu6zzQ6GKlGE"
      },
      "source": [
        "----\n",
        "##### (2) <span style=\"color:yellow\"> re.split()</span>\n",
        "  - split() 함수는 입력된 정규 표현식을 기준으로 문자열들을 분리하여 리스트로 리턴합니다. \n",
        "  - 자연어 처리에 있어서 가장 많이 사용되는 정규 표현식 함수 중 하나인데, 토큰화에 유용하게 쓰일 수 있기 때문입니다."
      ]
    },
    {
      "cell_type": "markdown",
      "source": [
        "https://docs.python.org/ko/3/library/re.html"
      ],
      "metadata": {
        "id": "tCjn9k4F080u"
      }
    },
    {
      "cell_type": "code",
      "execution_count": 58,
      "metadata": {
        "id": "h2Wd2xYIKlGE",
        "outputId": "87ebe7db-694b-46de-a7d9-bce46c273c10",
        "colab": {
          "base_uri": "https://localhost:8080/"
        }
      },
      "outputs": [
        {
          "output_type": "execute_result",
          "data": {
            "text/plain": [
              "['사과', '딸기', '수박', '메론', '바나나']"
            ]
          },
          "metadata": {},
          "execution_count": 58
        }
      ],
      "source": [
        "import re\n",
        "\n",
        "text = \"사과 딸기 수박 메론 바나나\"\n",
        "re.split(\" \",text)  # text.split()"
      ]
    },
    {
      "cell_type": "code",
      "source": [
        "text"
      ],
      "metadata": {
        "id": "9tFJ2WLR0RSB",
        "outputId": "83a058d9-9cfa-435e-a258-a86a974f2586",
        "colab": {
          "base_uri": "https://localhost:8080/",
          "height": 35
        }
      },
      "execution_count": 59,
      "outputs": [
        {
          "output_type": "execute_result",
          "data": {
            "application/vnd.google.colaboratory.intrinsic+json": {
              "type": "string"
            },
            "text/plain": [
              "'사과 딸기 수박 메론 바나나'"
            ]
          },
          "metadata": {},
          "execution_count": 59
        }
      ]
    },
    {
      "cell_type": "code",
      "execution_count": 60,
      "metadata": {
        "id": "Aw0q6uSLKlGE",
        "outputId": "d7f66bfb-19ab-4b00-9e69-800a7aab3815",
        "colab": {
          "base_uri": "https://localhost:8080/"
        }
      },
      "outputs": [
        {
          "output_type": "execute_result",
          "data": {
            "text/plain": [
              "['사과', '딸기', '수박', '메론', '바나나']"
            ]
          },
          "metadata": {},
          "execution_count": 60
        }
      ],
      "source": [
        "text.split()"
      ]
    },
    {
      "cell_type": "code",
      "execution_count": 61,
      "metadata": {
        "id": "GoY1gVxGKlGE",
        "outputId": "1831897b-ad38-4f02-d2f1-7091a9492aec",
        "colab": {
          "base_uri": "https://localhost:8080/"
        }
      },
      "outputs": [
        {
          "output_type": "execute_result",
          "data": {
            "text/plain": [
              "['', '사과', '딸기', '수박', '메론', '바나나', '']"
            ]
          },
          "metadata": {},
          "execution_count": 61
        }
      ],
      "source": [
        "text = \\\n",
        "\"\"\"\n",
        "사과\n",
        "딸기\n",
        "수박\n",
        "메론\n",
        "바나나\n",
        "\"\"\"\n",
        "\n",
        "re.split(\"\\n\",text)"
      ]
    },
    {
      "cell_type": "code",
      "execution_count": 62,
      "metadata": {
        "id": "b6BKWlfMKlGE",
        "outputId": "b3a3ade5-6e51-4abf-cd43-63933cf154e7",
        "colab": {
          "base_uri": "https://localhost:8080/"
        }
      },
      "outputs": [
        {
          "output_type": "execute_result",
          "data": {
            "text/plain": [
              "['', '사과', '딸기', '수박', '메론', '바나나', '']"
            ]
          },
          "metadata": {},
          "execution_count": 62
        }
      ],
      "source": [
        "text.split('\\n')"
      ]
    },
    {
      "cell_type": "code",
      "execution_count": 63,
      "metadata": {
        "id": "00ywgAvpKlGE",
        "outputId": "568d6c13-06b7-4b89-b8f3-d4b73ce14235",
        "colab": {
          "base_uri": "https://localhost:8080/"
        }
      },
      "outputs": [
        {
          "output_type": "execute_result",
          "data": {
            "text/plain": [
              "['사과', '딸기', '수박', '메론', '바나나']"
            ]
          },
          "metadata": {},
          "execution_count": 63
        }
      ],
      "source": [
        "text = \"사과+딸기+수박+메론+바나나\"\n",
        "\n",
        "re.split(\"\\+\",text) "
      ]
    },
    {
      "cell_type": "code",
      "execution_count": 64,
      "metadata": {
        "id": "m17cNozpKlGE",
        "outputId": "78f75ee6-3df5-403a-9df9-d4eaa8fd7017",
        "colab": {
          "base_uri": "https://localhost:8080/"
        }
      },
      "outputs": [
        {
          "output_type": "execute_result",
          "data": {
            "text/plain": [
              "['사과', '딸기', '수박', '메론', '바나나']"
            ]
          },
          "metadata": {},
          "execution_count": 64
        }
      ],
      "source": [
        "text.split('+')"
      ]
    },
    {
      "cell_type": "markdown",
      "metadata": {
        "id": "glyGH8DvKlGE"
      },
      "source": [
        "----\n",
        "##### (3) <span style=\"color:yellow\"> re.findall()</span>\n",
        "  - findall() 함수는 정규 표현식과 매치되는 모든 문자열들을 리스트로 리턴합니다. \n",
        "  - 단, 매치되는 문자열이 없다면 빈 리스트를 리턴합니다."
      ]
    },
    {
      "cell_type": "code",
      "execution_count": 41,
      "metadata": {
        "id": "p6tsDL20KlGF",
        "outputId": "c12eadc4-cc22-467d-cd57-7b741c6e15eb",
        "colab": {
          "base_uri": "https://localhost:8080/"
        }
      },
      "outputs": [
        {
          "output_type": "execute_result",
          "data": {
            "text/plain": [
              "['010', '1234', '1234', '30']"
            ]
          },
          "metadata": {},
          "execution_count": 41
        }
      ],
      "source": [
        "import re\n",
        "\n",
        "text = \"\"\"이름 : 김철수\n",
        "전화번호 : 010 - 1234 - 1234\n",
        "나이 : 30\n",
        "성별 : 남\"\"\"\n",
        "\n",
        "re.findall(\"\\d+\",text)"
      ]
    },
    {
      "cell_type": "code",
      "execution_count": 42,
      "metadata": {
        "id": "1UT58yQLKlGF",
        "outputId": "b0968731-1708-4783-ac9f-2f6f90b2554e",
        "colab": {
          "base_uri": "https://localhost:8080/"
        }
      },
      "outputs": [
        {
          "output_type": "execute_result",
          "data": {
            "text/plain": [
              "[]"
            ]
          },
          "metadata": {},
          "execution_count": 42
        }
      ],
      "source": [
        "re.findall(\"\\d+\", \"문자열입니다.\") # 빈 리스트를 리턴한다."
      ]
    },
    {
      "cell_type": "markdown",
      "metadata": {
        "id": "A8GKd2GxKlGF"
      },
      "source": [
        "----\n",
        "##### (4) <span style=\"color:yellow\"> re.sub()</span>\n",
        "  - sub() 함수는 정규 표현식 패턴과 일치하는 문자열을 찾아 다른 문자열로 대체할 수 있습니다."
      ]
    },
    {
      "cell_type": "code",
      "execution_count": 43,
      "metadata": {
        "id": "kAvTw8fzKlGF",
        "outputId": "2e92bc64-dafc-4d2a-eeb4-1aaa52cfae9a",
        "colab": {
          "base_uri": "https://localhost:8080/",
          "height": 52
        }
      },
      "outputs": [
        {
          "output_type": "execute_result",
          "data": {
            "application/vnd.google.colaboratory.intrinsic+json": {
              "type": "string"
            },
            "text/plain": [
              "'Regular expression   A regular expression  regex or regexp     sometimes called a rational expression        is  in theoretical computer science and formal language theory  a sequence of characters that define a search pattern '"
            ]
          },
          "metadata": {},
          "execution_count": 43
        }
      ],
      "source": [
        "import re\n",
        "\n",
        "text = \"Regular expression : A regular expression, regex or regexp[1] (sometimes called a rational expression)[2][3] is, in theoretical computer science and formal language theory, a sequence of characters that define a search pattern.\"\n",
        "\n",
        "re.sub('[^a-zA-Z]',' ',text)"
      ]
    },
    {
      "cell_type": "code",
      "execution_count": 44,
      "metadata": {
        "id": "ryeK-04tKlGF",
        "outputId": "dc76af08-dd05-4b79-cdeb-c5f14d2e0caf",
        "colab": {
          "base_uri": "https://localhost:8080/",
          "height": 35
        }
      },
      "outputs": [
        {
          "output_type": "execute_result",
          "data": {
            "application/vnd.google.colaboratory.intrinsic+json": {
              "type": "string"
            },
            "text/plain": [
              "'그의 물건에 손대지 마시오.'"
            ]
          },
          "metadata": {},
          "execution_count": 44
        }
      ],
      "source": [
        "p = re.compile(\"(내|나의|네꺼)\")\n",
        "\n",
        "p.sub(\"그의\", \"나의 물건에 손대지 마시오.\")\n",
        "# 나의 ==> 그의  로 대치되는 재미있는 sub"
      ]
    },
    {
      "cell_type": "markdown",
      "metadata": {
        "id": "RyESmXv9KlGF"
      },
      "source": [
        "----\n",
        "##### <span style=\"color:yellow\"> 정규 표현식 텍스트 전처리 예제</span>"
      ]
    },
    {
      "cell_type": "code",
      "execution_count": 45,
      "metadata": {
        "id": "RZMiNwn_KlGF",
        "outputId": "457eecf2-3913-41ae-acf3-ae98513340e3",
        "colab": {
          "base_uri": "https://localhost:8080/"
        }
      },
      "outputs": [
        {
          "output_type": "execute_result",
          "data": {
            "text/plain": [
              "['100', 'John', 'PROF', '101', 'James', 'STUD', '102', 'Mac', 'STUD']"
            ]
          },
          "metadata": {},
          "execution_count": 45
        }
      ],
      "source": [
        "import re  \n",
        "\n",
        "text = \"\"\"100 John    PROF\n",
        "101 James   STUD\n",
        "102 Mac   STUD\"\"\"  \n",
        "\n",
        "re.split('\\s+', text)"
      ]
    },
    {
      "cell_type": "code",
      "execution_count": 46,
      "metadata": {
        "id": "VpJVrjpMKlGF",
        "outputId": "29b7e759-8cc4-4cec-88c6-c4e6c4dc7349",
        "colab": {
          "base_uri": "https://localhost:8080/"
        }
      },
      "outputs": [
        {
          "output_type": "execute_result",
          "data": {
            "text/plain": [
              "['100', '101', '102']"
            ]
          },
          "metadata": {},
          "execution_count": 46
        }
      ],
      "source": [
        "re.findall('\\d+',text)   # 최소 1개 이상의 숫자 추출"
      ]
    },
    {
      "cell_type": "code",
      "execution_count": 47,
      "metadata": {
        "id": "ozS_ld9qKlGF",
        "outputId": "199355c8-edfa-4968-c28c-2c0013f5e45f",
        "colab": {
          "base_uri": "https://localhost:8080/"
        }
      },
      "outputs": [
        {
          "output_type": "execute_result",
          "data": {
            "text/plain": [
              "['PROF', 'STUD', 'STUD']"
            ]
          },
          "metadata": {},
          "execution_count": 47
        }
      ],
      "source": [
        "re.findall('[A-Z]{4}',text) # 대문자가 연속적으로 4번 등장하는 경우"
      ]
    },
    {
      "cell_type": "code",
      "execution_count": 48,
      "metadata": {
        "id": "b9X8iuMZKlGF",
        "outputId": "00ed79e8-1210-44bb-88cb-5651fea0ab38",
        "colab": {
          "base_uri": "https://localhost:8080/"
        }
      },
      "outputs": [
        {
          "output_type": "execute_result",
          "data": {
            "text/plain": [
              "['John', 'James', 'Mac']"
            ]
          },
          "metadata": {},
          "execution_count": 48
        }
      ],
      "source": [
        "re.findall('[A-Z][a-z]+',text) # 첫번째 대문자 다음은 소문자 추출"
      ]
    },
    {
      "cell_type": "code",
      "execution_count": 49,
      "metadata": {
        "id": "CVHFX-iAKlGG",
        "outputId": "45202891-577e-46ae-e24c-041b08ccd5be",
        "colab": {
          "base_uri": "https://localhost:8080/",
          "height": 35
        }
      },
      "outputs": [
        {
          "output_type": "execute_result",
          "data": {
            "application/vnd.google.colaboratory.intrinsic+json": {
              "type": "string"
            },
            "text/plain": [
              "'    John    PROF     James   STUD     Mac   STUD'"
            ]
          },
          "metadata": {},
          "execution_count": 49
        }
      ],
      "source": [
        "# 아래 코드는 영문자가 아닌 문자는 전부 공백으로 치환합니다.\n",
        "letters_only = re.sub('[^a-zA-Z]', ' ', text)\n",
        "letters_only"
      ]
    },
    {
      "cell_type": "code",
      "execution_count": 50,
      "metadata": {
        "id": "UWpPwxRsKlGG",
        "outputId": "34da2972-e68d-420e-d279-8a82609f328a",
        "colab": {
          "base_uri": "https://localhost:8080/"
        }
      },
      "outputs": [
        {
          "output_type": "execute_result",
          "data": {
            "text/plain": [
              "['John', 'PROF', 'James', 'STUD', 'Mac', 'STUD']"
            ]
          },
          "metadata": {},
          "execution_count": 50
        }
      ],
      "source": [
        "letters_only.split() # convert from str to list"
      ]
    },
    {
      "cell_type": "code",
      "execution_count": 51,
      "metadata": {
        "id": "FqGP0h8KKlGG",
        "outputId": "64ea0168-ea1a-4e0a-a82c-560db171ba3f",
        "colab": {
          "base_uri": "https://localhost:8080/"
        }
      },
      "outputs": [
        {
          "output_type": "stream",
          "name": "stdout",
          "text": [
            "신 의원은 “기상예보의 정확도는 담당자의 전문성에 비례한다”며 “기상관측 직원들의 교육과 훈련을 강화해야 한다”고 말했다.\n",
            "사지원 기자 4g1@donga.com\n"
          ]
        }
      ],
      "source": [
        "text = \"\"\"신 의원은 “기상예보의 정확도는 담당자의 전문성에 비례한다”며 “기상관측 직원들의 교육과 훈련을 강화해야 한다”고 말했다.\n",
        "사지원 기자 4g1@donga.com\"\"\"\n",
        "\n",
        "print(text)"
      ]
    },
    {
      "cell_type": "code",
      "execution_count": 52,
      "metadata": {
        "id": "SUqf5DeFKlGG",
        "outputId": "fac26a93-f498-4c69-b3bd-e0e39c39b1dd",
        "colab": {
          "base_uri": "https://localhost:8080/",
          "height": 35
        }
      },
      "outputs": [
        {
          "output_type": "execute_result",
          "data": {
            "application/vnd.google.colaboratory.intrinsic+json": {
              "type": "string"
            },
            "text/plain": [
              "'신 의원은 “기상예보의 정확도는 담당자의 전문성에 비례한다”며 “기상관측 직원들의 교육과 훈련을 강화해야 한다”고 말했다.\\n사지원 기자 '"
            ]
          },
          "metadata": {},
          "execution_count": 52
        }
      ],
      "source": [
        "import re\n",
        "\n",
        "# 기사에서 기자의 email 주소 삭제\n",
        "re.sub(\"[0-9a-zA-Z_\\+]+@[a-z]+\\.com\", '', text)"
      ]
    },
    {
      "cell_type": "markdown",
      "metadata": {
        "id": "2ENO164uKlGG"
      },
      "source": [
        "----\n",
        "##### <span style=\"color:yellow\"> 정규 표현식을 이용한 토큰화</span>\n",
        "  - NLTK에서는 정규 표현식을 사용해서 단어 토큰화를 수행하는 RegexpTokenizer를 지원합니다. \n",
        "  - RegexpTokenizer()에서 괄호 안에 원하는 정규 표현식을 넣어서 토큰화를 수행하는 것입니다."
      ]
    },
    {
      "cell_type": "code",
      "execution_count": 53,
      "metadata": {
        "id": "QyroHT-JKlGG",
        "outputId": "3ea02651-b79d-4113-adfa-ddb02a71e955",
        "colab": {
          "base_uri": "https://localhost:8080/"
        }
      },
      "outputs": [
        {
          "output_type": "stream",
          "name": "stdout",
          "text": [
            "Don't be fooled by the dark sounding name, Mr. Jone's Orphanage is as cheery as cheery goes for a pastry shop\n",
            "['Don', 't', 'be', 'fooled', 'by', 'the', 'dark', 'sounding', 'name', 'Mr', 'Jone', 's', 'Orphanage', 'is', 'as', 'cheery', 'as', 'cheery', 'goes', 'for', 'a', 'pastry', 'shop']\n"
          ]
        }
      ],
      "source": [
        "import nltk\n",
        "from nltk.tokenize import RegexpTokenizer\n",
        "\n",
        "text = \"Don't be fooled by the dark sounding name, Mr. Jone's Orphanage is as cheery as cheery goes for a pastry shop\"\n",
        "print(text)\n",
        "\n",
        "tokenizer=RegexpTokenizer(\"[\\w]+\")\n",
        "print(tokenizer.tokenize(text))\n"
      ]
    },
    {
      "cell_type": "code",
      "execution_count": 54,
      "metadata": {
        "id": "h9hroj7RKlGG",
        "outputId": "1066bd0e-2e0b-4a48-c786-053f8d54e7fc",
        "colab": {
          "base_uri": "https://localhost:8080/"
        }
      },
      "outputs": [
        {
          "output_type": "stream",
          "name": "stdout",
          "text": [
            "[\"Don't\", 'be', 'fooled', 'by', 'the', 'dark', 'sounding', 'name,', 'Mr.', \"Jone's\", 'Orphanage', 'is', 'as', 'cheery', 'as', 'cheery', 'goes', 'for', 'a', 'pastry', 'shop']\n"
          ]
        }
      ],
      "source": [
        "import nltk\n",
        "from nltk.tokenize import RegexpTokenizer\n",
        "\n",
        "tokenizer=RegexpTokenizer(\"[\\s]+\", gaps=True)\n",
        "print(tokenizer.tokenize(text))"
      ]
    },
    {
      "cell_type": "code",
      "execution_count": 55,
      "metadata": {
        "id": "AOYg8KrbKlGG",
        "outputId": "b767b1af-4fff-4ff8-e387-7181be8f01bc",
        "colab": {
          "base_uri": "https://localhost:8080/"
        }
      },
      "outputs": [
        {
          "output_type": "stream",
          "name": "stdout",
          "text": [
            "[' ', ' ', ' ', ' ', ' ', ' ', ' ', ' ', ' ', ' ', ' ', ' ', ' ', ' ', ' ', ' ', ' ', ' ', ' ', ' ']\n"
          ]
        }
      ],
      "source": [
        "tokenizer=RegexpTokenizer(\"[\\s]+\", gaps=False)\n",
        "print(tokenizer.tokenize(text))"
      ]
    },
    {
      "cell_type": "code",
      "execution_count": 55,
      "metadata": {
        "id": "nKEZU1REKlGG"
      },
      "outputs": [],
      "source": [
        ""
      ]
    }
  ],
  "metadata": {
    "kernelspec": {
      "display_name": "Python 3",
      "language": "python",
      "name": "python3"
    },
    "language_info": {
      "codemirror_mode": {
        "name": "ipython",
        "version": 3
      },
      "file_extension": ".py",
      "mimetype": "text/x-python",
      "name": "python",
      "nbconvert_exporter": "python",
      "pygments_lexer": "ipython3",
      "version": "3.7.6"
    },
    "colab": {
      "name": "regular-expression.ipynb",
      "provenance": [],
      "include_colab_link": true
    }
  },
  "nbformat": 4,
  "nbformat_minor": 0
}