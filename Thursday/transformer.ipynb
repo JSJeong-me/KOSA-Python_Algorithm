{
  "cells": [
    {
      "cell_type": "markdown",
      "metadata": {
        "id": "view-in-github",
        "colab_type": "text"
      },
      "source": [
        "<a href=\"https://colab.research.google.com/github/JSJeong-me/KOSA-Python_Algorithm/blob/main/Thursday/transformer.ipynb\" target=\"_parent\"><img src=\"https://colab.research.google.com/assets/colab-badge.svg\" alt=\"Open In Colab\"/></a>"
      ]
    },
    {
      "cell_type": "code",
      "source": [
        "#!pip install transformers"
      ],
      "metadata": {
        "id": "yPDsUt0AwSSZ"
      },
      "id": "yPDsUt0AwSSZ",
      "execution_count": null,
      "outputs": []
    },
    {
      "cell_type": "code",
      "execution_count": null,
      "id": "obvious-technical",
      "metadata": {
        "id": "obvious-technical"
      },
      "outputs": [],
      "source": [
        "import pandas as pd\n",
        "import nltk\n",
        "from nltk.stem.porter import PorterStemmer\n",
        "from nltk.tokenize import RegexpTokenizer\n",
        "from nltk.corpus import stopwords"
      ]
    },
    {
      "cell_type": "code",
      "execution_count": null,
      "id": "caring-globe",
      "metadata": {
        "id": "caring-globe"
      },
      "outputs": [],
      "source": [
        "f = open(\"Aida_lower_one.txt\", 'rt', encoding='UTF8')\n",
        "lines = f.readlines() # [0]\n",
        "f.close()"
      ]
    },
    {
      "cell_type": "code",
      "source": [
        "lines"
      ],
      "metadata": {
        "id": "3iE_cWXMvA4B"
      },
      "id": "3iE_cWXMvA4B",
      "execution_count": null,
      "outputs": []
    },
    {
      "cell_type": "code",
      "execution_count": null,
      "id": "golden-lease",
      "metadata": {
        "id": "golden-lease"
      },
      "outputs": [],
      "source": [
        ""
      ]
    },
    {
      "cell_type": "code",
      "execution_count": null,
      "id": "elegant-absolute",
      "metadata": {
        "id": "elegant-absolute"
      },
      "outputs": [],
      "source": [
        "tokenizer = RegexpTokenizer('[\\w]+')"
      ]
    },
    {
      "cell_type": "code",
      "execution_count": null,
      "id": "fundamental-offset",
      "metadata": {
        "id": "fundamental-offset"
      },
      "outputs": [],
      "source": [
        ""
      ]
    },
    {
      "cell_type": "code",
      "execution_count": null,
      "id": "desperate-financing",
      "metadata": {
        "id": "desperate-financing"
      },
      "outputs": [],
      "source": [
        "#stop_words = stopwords.words('english')"
      ]
    },
    {
      "cell_type": "code",
      "execution_count": null,
      "id": "vanilla-municipality",
      "metadata": {
        "id": "vanilla-municipality"
      },
      "outputs": [],
      "source": [
        "#words =  lines[0].lower()"
      ]
    },
    {
      "cell_type": "code",
      "execution_count": null,
      "id": "military-elimination",
      "metadata": {
        "id": "military-elimination"
      },
      "outputs": [],
      "source": [
        "words =  lines"
      ]
    },
    {
      "cell_type": "code",
      "execution_count": null,
      "id": "burning-belle",
      "metadata": {
        "id": "burning-belle"
      },
      "outputs": [],
      "source": [
        "len(words)"
      ]
    },
    {
      "cell_type": "code",
      "execution_count": null,
      "id": "italian-plenty",
      "metadata": {
        "id": "italian-plenty"
      },
      "outputs": [],
      "source": [
        "# Import library\n",
        "from transformers import pipeline\n",
        "\n",
        "#Define pipeline to use\n",
        "classifier = pipeline('zero-shot-classification')"
      ]
    },
    {
      "cell_type": "code",
      "execution_count": null,
      "id": "fitted-melbourne",
      "metadata": {
        "id": "fitted-melbourne"
      },
      "outputs": [],
      "source": [
        "#Define input text and candidate labels\n",
        "input_text = ['Intel Corporation is an American multinational corporation and technology company headquartered in Santa Clara, California, in Silicon Valley. It is the worlds largest and highest valued semiconductor chip manufacturer based on revenue,[4][5] and is the inventor of the x86 series of microprocessors, the processors found in most personal computers (PCs). Intel ranked No. 46 in the 2018 Fortune 500 list of the largest United States corporations by total revenue.[6] Intel is incorporated in Delaware']"
      ]
    },
    {
      "cell_type": "code",
      "execution_count": null,
      "id": "framed-recovery",
      "metadata": {
        "id": "framed-recovery"
      },
      "outputs": [],
      "source": [
        "#input_text = words"
      ]
    },
    {
      "cell_type": "code",
      "source": [
        ""
      ],
      "metadata": {
        "id": "7NCsPwC5w09P"
      },
      "id": "7NCsPwC5w09P",
      "execution_count": null,
      "outputs": []
    },
    {
      "cell_type": "code",
      "execution_count": null,
      "id": "defensive-constitutional",
      "metadata": {
        "id": "defensive-constitutional"
      },
      "outputs": [],
      "source": [
        "candidate_labels = ['business', 'technology', 'fun', 'holly'] # ['sad', 'joy', 'holy', 'fun'] \n",
        "\n",
        "#Run classifier\n",
        "classifier(input_text, candidate_labels, multi_label = True)"
      ]
    },
    {
      "cell_type": "code",
      "execution_count": null,
      "id": "bulgarian-audit",
      "metadata": {
        "id": "bulgarian-audit"
      },
      "outputs": [],
      "source": [
        ""
      ]
    }
  ],
  "metadata": {
    "kernelspec": {
      "display_name": "Python 3",
      "language": "python",
      "name": "python3"
    },
    "language_info": {
      "codemirror_mode": {
        "name": "ipython",
        "version": 3
      },
      "file_extension": ".py",
      "mimetype": "text/x-python",
      "name": "python",
      "nbconvert_exporter": "python",
      "pygments_lexer": "ipython3",
      "version": "3.7.6"
    },
    "colab": {
      "name": "4-1-aida.ipynb",
      "provenance": [],
      "include_colab_link": true
    }
  },
  "nbformat": 4,
  "nbformat_minor": 5
}