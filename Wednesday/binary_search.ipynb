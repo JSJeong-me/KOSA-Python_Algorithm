{
  "nbformat": 4,
  "nbformat_minor": 0,
  "metadata": {
    "colab": {
      "name": "Untitled11.ipynb",
      "provenance": [],
      "authorship_tag": "ABX9TyPme9SB+WxemXYsSF+M5yQz",
      "include_colab_link": true
    },
    "kernelspec": {
      "name": "python3",
      "display_name": "Python 3"
    },
    "language_info": {
      "name": "python"
    }
  },
  "cells": [
    {
      "cell_type": "markdown",
      "metadata": {
        "id": "view-in-github",
        "colab_type": "text"
      },
      "source": [
        "<a href=\"https://colab.research.google.com/github/JSJeong-me/KOSA-Python_Algorithm/blob/main/Wednesday/binary_search.ipynb\" target=\"_parent\"><img src=\"https://colab.research.google.com/assets/colab-badge.svg\" alt=\"Open In Colab\"/></a>"
      ]
    },
    {
      "cell_type": "markdown",
      "source": [
        "이진 탐색이란?\n",
        "이진 탐색이란 데이터가 정렬돼 있는 배열에서 특정한 값을 찾아내는 알고리즘이다. 배열의 중간에 있는 임의의 값을 선택하여 찾고자 하는 값 X와 비교한다. X가 중간 값보다 작으면 중간 값을 기준으로 좌측의 데이터들을 대상으로, X가 중간값보다 크면 배열의 우측을 대상으로 다시 탐색한다. 동일한 방법으로 다시 중간의 값을 임의로 선택하고 비교한다. 해당 값을 찾을 때까지 이 과정을 반복한다."
      ],
      "metadata": {
        "id": "Z3tG1UzdFTc-"
      }
    },
    {
      "cell_type": "code",
      "metadata": {
        "id": "m8I5E-a0Q3Qu"
      },
      "source": [
        "data = [17, 28, 43, 67, 88, 92, 100] # { 17, 28, 43, 67, 88, 92, 100 }"
      ],
      "execution_count": 1,
      "outputs": []
    },
    {
      "cell_type": "markdown",
      "source": [
        "첫 번째 시도\n",
        "우선 가운데에 위치한 임의의 값 67을 선택한다.\n",
        "\n",
        "선택한 값 67과 찾고자 하는 값 43를 비교한다.\n",
        "\n",
        "43 < 67 이므로 43은 67의 좌측에 존재한다는 것을 알 수 있다.\n",
        "\n",
        "\n",
        "\n",
        "두 번째 시도\n",
        "67을 기준으로 좌측에 있는 배열 값들을 대상으로 다시 탐색을 진행한다.\n",
        "\n",
        "{ 17, 28, 43 }\n",
        "\n",
        "마찬가지로 가운데의 임의의 값 28을 선택한다.\n",
        "\n",
        "28 < 43 이번에는 28이 43보다 작으므로 28 우측에 위치하는 것을 알 수 있다.\n",
        "\n",
        "\n",
        "\n",
        "세 번째 시도\n",
        "28의 우측을 기준으로 배열을 다시 설정해보면\n",
        "\n",
        "{ 43 }\n",
        "\n",
        "배열에 값이 하나만 남게 되고 값을 확인해보면,\n",
        "43 == 43 원하는 값을 찾았다.\n",
        "\n",
        "\n",
        "\n",
        "종료 조건\n",
        "탐색의 종료 조건은 원하는 값을 찾으면 종료된다.\n",
        "운이 좋게 한 번에 찾을 수도 있고 위의 예제와 같이 마지막에 찾을 수도 있다.\n",
        "\n",
        "만약 원하는 값이 배열이 존재하지 않는다면 어떻게 종료될까?\n",
        "방금 살펴본 예제를 그대로 이용하여 40 을 찾는다고 가정해보자.\n",
        "\n",
        "두 번째 시도까지는 동일하게 진행된다.\n",
        "\n",
        "세 번째 시도에서 값을 비교해보면, 40 < 43 으로 원하는 값 40 보다 작다. 배열의 좌측을 탐색해야 하는데 더 이상 남은 배열이 존재하지 않는다.\n",
        "이렇게 탐색하고자 하는 배열이 더이상 존재하지 않으면 찾고자 하는 값이 배열에 존재하지 않는다는 것으로 판단할 수 있고 탐색을 종료한다.\n",
        "\n"
      ],
      "metadata": {
        "id": "8HDj1VALF480"
      }
    },
    {
      "cell_type": "code",
      "metadata": {
        "id": "1ZNOAwXJQ5In"
      },
      "source": [
        "def BinarySearch(arr, low, high, x): \n",
        "    # Binary Search:\n",
        "    # arr --> sorted array\n",
        "    # low --> lowest index\n",
        "    # high --> highest index\n",
        "    # x --> searched value\n",
        "\n",
        "    if high >= low: \n",
        "        mid = (high + low) // 2\n",
        "        \n",
        "        if arr[mid] == x: \n",
        "            return mid \n",
        "        elif arr[mid] > x: \n",
        "            return BinarySearch(arr, low, mid - 1, x) \n",
        "        else: \n",
        "            return BinarySearch(arr, mid + 1, high, x) \n",
        "  \n",
        "    else: \n",
        "        # Element is not present in the array \n",
        "        return -1\n",
        " \n",
        "def binary_search(arr, x):\n",
        "    # initiation of BinarySearch recursion\n",
        "    # arr --> unsorted array\n",
        "    return BinarySearch(arr, 0, len(arr) - 1, x)"
      ],
      "execution_count": 2,
      "outputs": []
    },
    {
      "cell_type": "code",
      "metadata": {
        "id": "acRZpNyARJvT"
      },
      "source": [
        "found_index = binary_search(data, 92)"
      ],
      "execution_count": 6,
      "outputs": []
    },
    {
      "cell_type": "code",
      "source": [
        "found_index"
      ],
      "metadata": {
        "id": "d7Xv1iGLFrQN",
        "outputId": "a504d053-7a88-4d25-c343-9b5bbc69cad7",
        "colab": {
          "base_uri": "https://localhost:8080/"
        }
      },
      "execution_count": 7,
      "outputs": [
        {
          "output_type": "execute_result",
          "data": {
            "text/plain": [
              "5"
            ]
          },
          "metadata": {},
          "execution_count": 7
        }
      ]
    },
    {
      "cell_type": "code",
      "metadata": {
        "colab": {
          "base_uri": "https://localhost:8080/"
        },
        "id": "NfIBi5k1RRoo",
        "outputId": "b2711497-831f-4dc6-f00c-6d4d81bb6a00"
      },
      "source": [
        "data[found_index]"
      ],
      "execution_count": 4,
      "outputs": [
        {
          "output_type": "execute_result",
          "data": {
            "text/plain": [
              "100"
            ]
          },
          "metadata": {},
          "execution_count": 4
        }
      ]
    },
    {
      "cell_type": "code",
      "metadata": {
        "id": "htF3xFf9RVgJ"
      },
      "source": [
        ""
      ],
      "execution_count": null,
      "outputs": []
    }
  ]
}