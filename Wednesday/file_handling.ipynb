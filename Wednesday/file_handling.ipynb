{
  "nbformat": 4,
  "nbformat_minor": 0,
  "metadata": {
    "colab": {
      "name": "Untitled56.ipynb",
      "provenance": [],
      "authorship_tag": "ABX9TyNRh3JkltZ2tsgn6RHvQidd",
      "include_colab_link": true
    },
    "kernelspec": {
      "name": "python3",
      "display_name": "Python 3"
    },
    "language_info": {
      "name": "python"
    }
  },
  "cells": [
    {
      "cell_type": "markdown",
      "metadata": {
        "id": "view-in-github",
        "colab_type": "text"
      },
      "source": [
        "<a href=\"https://colab.research.google.com/github/JSJeong-me/KOSA-Python_Algorithm/blob/main/Wednesday/file_handling.ipynb\" target=\"_parent\"><img src=\"https://colab.research.google.com/assets/colab-badge.svg\" alt=\"Open In Colab\"/></a>"
      ]
    },
    {
      "cell_type": "markdown",
      "source": [
        "demofile.txt\n",
        "Hello! Welcome to demofile.txt\n",
        "This file is for testing purposes.\n",
        "Good Luck!"
      ],
      "metadata": {
        "id": "t0iRnBHGhXDg"
      }
    },
    {
      "cell_type": "code",
      "execution_count": null,
      "metadata": {
        "id": "uztKYYjbhWfF"
      },
      "outputs": [],
      "source": [
        "f = open(\"demofile.txt\", \"r\")\n",
        "print(f.read())"
      ]
    },
    {
      "cell_type": "markdown",
      "source": [
        "To open the file, use the built-in open() function.\n",
        "\n",
        "The open() function returns a file object, which has a read() method for reading the content of the file:"
      ],
      "metadata": {
        "id": "QvYcbBfQhkIV"
      }
    },
    {
      "cell_type": "markdown",
      "source": [
        "If the file is located in a different location, you will have to specify the file path, like this:"
      ],
      "metadata": {
        "id": "0hdjSjYChll1"
      }
    },
    {
      "cell_type": "markdown",
      "source": [
        ""
      ],
      "metadata": {
        "id": "TvOXmll9hqNC"
      }
    },
    {
      "cell_type": "code",
      "source": [
        "f = open(\".\\welcome.txt\", \"r\")\n",
        "print(f.read())"
      ],
      "metadata": {
        "id": "s7O0P-I-hq9O"
      },
      "execution_count": null,
      "outputs": []
    },
    {
      "cell_type": "markdown",
      "source": [
        "Read Only Parts of the File\n",
        "By default the read() method returns the whole text, but you can also specify how many characters you want to return:"
      ],
      "metadata": {
        "id": "qBtSAhTehvkl"
      }
    },
    {
      "cell_type": "code",
      "source": [
        "f = open(\"demofile.txt\", \"r\")\n",
        "print(f.read(5))"
      ],
      "metadata": {
        "id": "ixM3hYH4hyJA"
      },
      "execution_count": null,
      "outputs": []
    },
    {
      "cell_type": "markdown",
      "source": [
        "Return the 5 first characters of the file:"
      ],
      "metadata": {
        "id": "KW2UiusIh0XE"
      }
    },
    {
      "cell_type": "markdown",
      "source": [
        "Write to an Existing File\n",
        "To write to an existing file, you must add a parameter to the open() function:\n",
        "\n",
        "\"a\" - Append - will append to the end of the file\n",
        "\n",
        "\"w\" - Write - will overwrite any existing content"
      ],
      "metadata": {
        "id": "7HPO2u_fh5m9"
      }
    },
    {
      "cell_type": "code",
      "source": [
        "# Open the file \"demofile2.txt\" and append content to the file:\n",
        "\n",
        "f = open(\"demofile2.txt\", \"a\")\n",
        "f.write(\"Now the file has more content!\")\n",
        "f.close()\n",
        "\n",
        "#open and read the file after the appending:\n",
        "f = open(\"demofile2.txt\", \"r\")\n",
        "print(f.read())"
      ],
      "metadata": {
        "id": "7BpKfhOMh98A"
      },
      "execution_count": null,
      "outputs": []
    },
    {
      "cell_type": "markdown",
      "source": [
        ""
      ],
      "metadata": {
        "id": "cpg19swPiCyZ"
      }
    },
    {
      "cell_type": "code",
      "source": [
        "# Open the file \"demofile3.txt\" and overwrite the content:\n",
        "f = open(\"demofile3.txt\", \"w\")\n",
        "f.write(\"Woops! I have deleted the content!\")\n",
        "f.close()\n",
        "\n",
        "#open and read the file after the appending:\n",
        "f = open(\"demofile3.txt\", \"r\")\n",
        "print(f.read())\n",
        "\n",
        "# the \"w\" method will overwrite the entire file."
      ],
      "metadata": {
        "id": "AK9Kl9_yiFaE"
      },
      "execution_count": null,
      "outputs": []
    },
    {
      "cell_type": "markdown",
      "source": [
        "Create a New File\n",
        "To create a new file in Python, use the open() method, with one of the following parameters:\n",
        "\n",
        "\"x\" - Create - will create a file, returns an error if the file exist\n",
        "\n",
        "\"a\" - Append - will create a file if the specified file does not exist\n",
        "\n",
        "\"w\" - Write - will create a file if the specified file does not exist"
      ],
      "metadata": {
        "id": "Pzge2sRwiLLS"
      }
    },
    {
      "cell_type": "code",
      "source": [
        "# Create a file called \"myfile.txt\":\n",
        "f = open(\"myfile.txt\", \"x\")\n",
        "# Result: a new empty file is created!"
      ],
      "metadata": {
        "id": "mAjS0q1qiR8n"
      },
      "execution_count": null,
      "outputs": []
    },
    {
      "cell_type": "code",
      "source": [
        "# Create a new file if it does not exist:\n",
        "f = open(\"myfile.txt\", \"w\")"
      ],
      "metadata": {
        "id": "tg41kSVKibgf"
      },
      "execution_count": null,
      "outputs": []
    },
    {
      "cell_type": "markdown",
      "source": [
        "Delete a File\n",
        "To delete a file, you must import the OS module, and run its os.remove() function:"
      ],
      "metadata": {
        "id": "Q90EhgUYih65"
      }
    },
    {
      "cell_type": "code",
      "source": [
        "import os\n",
        "os.remove(\"demofile.txt\")"
      ],
      "metadata": {
        "id": "WWSmwsrDillR"
      },
      "execution_count": null,
      "outputs": []
    },
    {
      "cell_type": "markdown",
      "source": [
        "Check if File exist:\n",
        "To avoid getting an error, you might want to check if the file exists before you try to delete it:"
      ],
      "metadata": {
        "id": "NNmgo7f2indg"
      }
    },
    {
      "cell_type": "markdown",
      "source": [
        "Check if file exists, then delete it:"
      ],
      "metadata": {
        "id": "__5fyQunisNQ"
      }
    },
    {
      "cell_type": "code",
      "source": [
        "import os\n",
        "if os.path.exists(\"demofile.txt\"):\n",
        "  os.remove(\"demofile.txt\")\n",
        "else:\n",
        "  print(\"The file does not exist\")"
      ],
      "metadata": {
        "id": "0eEno3c2iq_n"
      },
      "execution_count": null,
      "outputs": []
    },
    {
      "cell_type": "markdown",
      "source": [
        "Delete Folder\n",
        "To delete an entire folder, use the os.rmdir() method:"
      ],
      "metadata": {
        "id": "IudiiSldiuvQ"
      }
    },
    {
      "cell_type": "code",
      "source": [
        "# To delete an entire folder, use the os.rmdir() method:\n",
        "import os\n",
        "os.rmdir(\"myfolder\")"
      ],
      "metadata": {
        "id": "w7iyrCE8ixZd"
      },
      "execution_count": null,
      "outputs": []
    }
  ]
}