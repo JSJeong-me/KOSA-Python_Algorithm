{
  "nbformat": 4,
  "nbformat_minor": 0,
  "metadata": {
    "colab": {
      "name": "Untitled55.ipynb",
      "provenance": [],
      "authorship_tag": "ABX9TyO1VXZiyd29VRTAoSAo3Dj3",
      "include_colab_link": true
    },
    "kernelspec": {
      "name": "python3",
      "display_name": "Python 3"
    },
    "language_info": {
      "name": "python"
    }
  },
  "cells": [
    {
      "cell_type": "markdown",
      "metadata": {
        "id": "view-in-github",
        "colab_type": "text"
      },
      "source": [
        "<a href=\"https://colab.research.google.com/github/JSJeong-me/KOSA-Python_Algorithm/blob/main/Wednesday/file_handling.ipynb\" target=\"_parent\"><img src=\"https://colab.research.google.com/assets/colab-badge.svg\" alt=\"Open In Colab\"/></a>"
      ]
    },
    {
      "cell_type": "markdown",
      "source": [
        "Python File Open\n",
        "File handling is an important part of any web application.\n",
        "\n",
        "Python has several functions for creating, reading, updating, and deleting files.\n",
        "\n",
        "File Handling\n",
        "The key function for working with files in Python is the open() function.\n",
        "\n",
        "The open() function takes two parameters; filename, and mode.\n",
        "\n",
        "There are four different methods (modes) for opening a file:"
      ],
      "metadata": {
        "id": "YLYD81fYgsDZ"
      }
    },
    {
      "cell_type": "markdown",
      "source": [
        "File Handling\n",
        "The key function for working with files in Python is the open() function.\n",
        "\n",
        "The open() function takes two parameters; filename, and mode.\n",
        "\n",
        "There are four different methods (modes) for opening a file:\n",
        "\n",
        "\"r\" - Read - Default value. Opens a file for reading, error if the file does not exist\n",
        "\n",
        "\"a\" - Append - Opens a file for appending, creates the file if it does not exist\n",
        "\n",
        "\"w\" - Write - Opens a file for writing, creates the file if it does not exist\n",
        "\n",
        "\"x\" - Create - Creates the specified file, returns an error if the file exists\n",
        "\n",
        "In addition you can specify if the file should be handled as binary or text mode\n",
        "\n",
        "\"t\" - Text - Default value. Text mode\n",
        "\n",
        "\"b\" - Binary - Binary mode (e.g. images)"
      ],
      "metadata": {
        "id": "lPq5j31ggxiZ"
      }
    },
    {
      "cell_type": "code",
      "execution_count": null,
      "metadata": {
        "id": "thHo2_t0grB6"
      },
      "outputs": [],
      "source": [
        "# To open a file for reading it is enough to specify the name of the file:\n",
        "f = open(\"demofile.txt\")"
      ]
    },
    {
      "cell_type": "code",
      "source": [
        "# The code above is the same as:\n",
        "f = open(\"demofile.txt\", \"rt\")\n",
        "# Because \"r\" for read, and \"t\" for text are the default values, you do not need to specify them."
      ],
      "metadata": {
        "id": "qFWt1q15g7OJ"
      },
      "execution_count": null,
      "outputs": []
    },
    {
      "cell_type": "code",
      "source": [
        ""
      ],
      "metadata": {
        "id": "jlcNtb5-hB-l"
      },
      "execution_count": null,
      "outputs": []
    }
  ]
}