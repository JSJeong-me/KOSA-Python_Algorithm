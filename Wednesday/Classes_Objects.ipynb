{
  "nbformat": 4,
  "nbformat_minor": 0,
  "metadata": {
    "colab": {
      "name": "Untitled52.ipynb",
      "provenance": [],
      "authorship_tag": "ABX9TyM+QBlfgOH43Jix175m3fNi",
      "include_colab_link": true
    },
    "kernelspec": {
      "name": "python3",
      "display_name": "Python 3"
    },
    "language_info": {
      "name": "python"
    }
  },
  "cells": [
    {
      "cell_type": "markdown",
      "metadata": {
        "id": "view-in-github",
        "colab_type": "text"
      },
      "source": [
        "<a href=\"https://colab.research.google.com/github/JSJeong-me/KOSA-Python_Algorithm/blob/main/Wednesday/Classes_Objects.ipynb\" target=\"_parent\"><img src=\"https://colab.research.google.com/assets/colab-badge.svg\" alt=\"Open In Colab\"/></a>"
      ]
    },
    {
      "cell_type": "markdown",
      "source": [
        "# Python Classes and Objects\n",
        "Python Classes/Objects\n",
        "Python is an object oriented programming language.\n",
        "\n",
        "Almost everything in Python is an object, with its properties and methods.\n",
        "\n",
        "A Class is like an object constructor, or a \"blueprint\" for creating objects.\n",
        "\n",
        "Create a Class\n",
        "To create a class, use the keyword class:"
      ],
      "metadata": {
        "id": "Sf48ilXtW9y4"
      }
    },
    {
      "cell_type": "markdown",
      "source": [
        "Create a class named MyClass, with a property named x:"
      ],
      "metadata": {
        "id": "vt-X4BaEXQlG"
      }
    },
    {
      "cell_type": "code",
      "execution_count": 1,
      "metadata": {
        "id": "PKQ_TR0NW4CO"
      },
      "outputs": [],
      "source": [
        "class MyClass:\n",
        "  x = 5"
      ]
    },
    {
      "cell_type": "markdown",
      "source": [
        "Create Object\n",
        "Now we can use the class named MyClass to create objects:"
      ],
      "metadata": {
        "id": "PX3CeRoPXXY1"
      }
    },
    {
      "cell_type": "markdown",
      "source": [
        "Create an object named p1, and print the value of x:"
      ],
      "metadata": {
        "id": "llNmroRtXd-0"
      }
    },
    {
      "cell_type": "code",
      "source": [
        "p1 = MyClass()\n",
        "print(p1.x)"
      ],
      "metadata": {
        "colab": {
          "base_uri": "https://localhost:8080/"
        },
        "id": "bfqCnW6lXWT8",
        "outputId": "94bccdf9-5f33-4430-b418-ddda79aeadbf"
      },
      "execution_count": 2,
      "outputs": [
        {
          "output_type": "stream",
          "name": "stdout",
          "text": [
            "5\n"
          ]
        }
      ]
    },
    {
      "cell_type": "markdown",
      "source": [
        "The __init__() Function\n",
        "The examples above are classes and objects in their simplest form, and are not really useful in real life applications.\n",
        "\n",
        "To understand the meaning of classes we have to understand the built-in __init__() function.\n",
        "\n",
        "All classes have a function called __init__(), which is always executed when the class is being initiated.\n",
        "\n",
        "Use the __init__() function to assign values to object properties, or other operations that are necessary to do when the object is being created:"
      ],
      "metadata": {
        "id": "kuzCb9RXXjZ6"
      }
    },
    {
      "cell_type": "markdown",
      "source": [
        "Create a class named Person, use the __init__() function to assign values for name and age:"
      ],
      "metadata": {
        "id": "91wl-fXSX8nL"
      }
    },
    {
      "cell_type": "code",
      "source": [
        "class Person:\n",
        "  def __init__(self, name, age):\n",
        "    self.name = name\n",
        "    self.age = age\n"
      ],
      "metadata": {
        "id": "wIfKQhtyX_kS"
      },
      "execution_count": 3,
      "outputs": []
    },
    {
      "cell_type": "code",
      "source": [
        "\n",
        "p1 = Person(\"John\", 36)\n",
        "\n",
        "print(p1.name)\n",
        "print(p1.age)"
      ],
      "metadata": {
        "colab": {
          "base_uri": "https://localhost:8080/"
        },
        "id": "Oie4wkFQYEaC",
        "outputId": "ee29b91d-b0a6-4a31-91c7-6ae5882e4aa6"
      },
      "execution_count": 4,
      "outputs": [
        {
          "output_type": "stream",
          "name": "stdout",
          "text": [
            "John\n",
            "36\n"
          ]
        }
      ]
    },
    {
      "cell_type": "markdown",
      "source": [
        "Note: The __init__() function is called automatically every time the class is being used to create a new object."
      ],
      "metadata": {
        "id": "XcAl9tdPYK0T"
      }
    },
    {
      "cell_type": "markdown",
      "source": [
        "Object Methods\n",
        "Objects can also contain methods. Methods in objects are functions that belong to the object.\n",
        "\n",
        "Let us create a method in the Person class:"
      ],
      "metadata": {
        "id": "9pHreFIGYO1g"
      }
    },
    {
      "cell_type": "markdown",
      "source": [
        "Insert a function that prints a greeting, and execute it on the p1 object:"
      ],
      "metadata": {
        "id": "xkj5xpg4YcVw"
      }
    },
    {
      "cell_type": "code",
      "source": [
        "class Person:\n",
        "  def __init__(self, name, age):\n",
        "    self.name = name\n",
        "    self.age = age\n",
        "\n",
        "  def myfunc(self):\n",
        "    print(\"Hello my name is \" + self.name)"
      ],
      "metadata": {
        "id": "U-greaV7YrRC"
      },
      "execution_count": 5,
      "outputs": []
    },
    {
      "cell_type": "code",
      "source": [
        "p1 = Person(\"John\", 36)\n",
        "p1.myfunc()"
      ],
      "metadata": {
        "colab": {
          "base_uri": "https://localhost:8080/"
        },
        "id": "cZ-WTNzPYufq",
        "outputId": "fc58bd9d-aba6-4069-e1bc-d3621207559f"
      },
      "execution_count": 6,
      "outputs": [
        {
          "output_type": "stream",
          "name": "stdout",
          "text": [
            "Hello my name is John\n"
          ]
        }
      ]
    },
    {
      "cell_type": "markdown",
      "source": [
        "Note: The self parameter is a reference to the current instance of the class, and is used to access variables that belong to the class."
      ],
      "metadata": {
        "id": "u4w6Yyn_Y2pw"
      }
    },
    {
      "cell_type": "markdown",
      "source": [
        "It does not have to be named self , you can call it whatever you like, but it has to be the first parameter of any function in the class:"
      ],
      "metadata": {
        "id": "N6SA8YXXY5w0"
      }
    },
    {
      "cell_type": "markdown",
      "source": [
        "Use the words mysillyobject and abc instead of self:"
      ],
      "metadata": {
        "id": "-3EcNtMZY_VE"
      }
    },
    {
      "cell_type": "code",
      "source": [
        "class Person:\n",
        "  def __init__(mysillyobject, name, age):\n",
        "    mysillyobject.name = name\n",
        "    mysillyobject.age = age\n",
        "\n",
        "  def myfunc(abc):\n",
        "    print(\"Hello my name is \" + abc.name)"
      ],
      "metadata": {
        "id": "KmWYaCGOZCe0"
      },
      "execution_count": 7,
      "outputs": []
    },
    {
      "cell_type": "code",
      "source": [
        "p1 = Person(\"John\", 36)\n",
        "p1.myfunc()"
      ],
      "metadata": {
        "colab": {
          "base_uri": "https://localhost:8080/"
        },
        "id": "ALjhBxnwZFZE",
        "outputId": "8a68c8f1-f085-4871-cd2c-d735e3ed2ba7"
      },
      "execution_count": 13,
      "outputs": [
        {
          "output_type": "stream",
          "name": "stdout",
          "text": [
            "Hello my name is John\n"
          ]
        }
      ]
    },
    {
      "cell_type": "markdown",
      "source": [
        "Modify Object Properties\n",
        "You can modify properties on objects like this:"
      ],
      "metadata": {
        "id": "a_tMFMu9ZNXK"
      }
    },
    {
      "cell_type": "code",
      "source": [
        "# Set the age of p1 to 40:\n",
        "p1.age = 40"
      ],
      "metadata": {
        "id": "IXBeyQgHZQDu"
      },
      "execution_count": 9,
      "outputs": []
    },
    {
      "cell_type": "markdown",
      "source": [
        "Delete Object Properties\n",
        "You can delete properties on objects by using the del keyword:"
      ],
      "metadata": {
        "id": "tAjfvrl_ZXwG"
      }
    },
    {
      "cell_type": "code",
      "source": [
        "# Delete the age property from the p1 object:\n",
        "del p1.age"
      ],
      "metadata": {
        "id": "hmzb7Gx-ZXQE"
      },
      "execution_count": 17,
      "outputs": []
    },
    {
      "cell_type": "markdown",
      "source": [
        "You can delete objects by using the del keyword:"
      ],
      "metadata": {
        "id": "kr9yQ_1RZjo-"
      }
    },
    {
      "cell_type": "code",
      "source": [
        "# Delete the p1 object:\n",
        "del p1"
      ],
      "metadata": {
        "id": "glFe707IZnSe"
      },
      "execution_count": 11,
      "outputs": []
    },
    {
      "cell_type": "code",
      "source": [
        "p1.name"
      ],
      "metadata": {
        "colab": {
          "base_uri": "https://localhost:8080/",
          "height": 35
        },
        "id": "Epjzxn5AZsp_",
        "outputId": "dcc3a1d4-521e-4376-ff12-fed5bab6f40f"
      },
      "execution_count": 18,
      "outputs": [
        {
          "output_type": "execute_result",
          "data": {
            "application/vnd.google.colaboratory.intrinsic+json": {
              "type": "string"
            },
            "text/plain": [
              "'John'"
            ]
          },
          "metadata": {},
          "execution_count": 18
        }
      ]
    },
    {
      "cell_type": "markdown",
      "source": [
        "The pass Statement\n",
        "class definitions cannot be empty, but if you for some reason have a class definition with no content, put in the pass statement to avoid getting an error."
      ],
      "metadata": {
        "id": "Han6jn0HZ8I8"
      }
    },
    {
      "cell_type": "code",
      "source": [
        "class Person:\n",
        "  pass"
      ],
      "metadata": {
        "id": "_xsv4vuhZta6"
      },
      "execution_count": null,
      "outputs": []
    }
  ]
}