{
  "nbformat": 4,
  "nbformat_minor": 0,
  "metadata": {
    "colab": {
      "name": "Untitled57.ipynb",
      "provenance": [],
      "authorship_tag": "ABX9TyNnfu32Oq1iU4MmehOyGvTQ",
      "include_colab_link": true
    },
    "kernelspec": {
      "name": "python3",
      "display_name": "Python 3"
    },
    "language_info": {
      "name": "python"
    }
  },
  "cells": [
    {
      "cell_type": "markdown",
      "metadata": {
        "id": "view-in-github",
        "colab_type": "text"
      },
      "source": [
        "<a href=\"https://colab.research.google.com/github/JSJeong-me/KOSA-Python_Algorithm/blob/main/Wednesday/euclidean.ipynb\" target=\"_parent\"><img src=\"https://colab.research.google.com/assets/colab-badge.svg\" alt=\"Open In Colab\"/></a>"
      ]
    },
    {
      "cell_type": "markdown",
      "source": [
        "유클리드 호제법(-互除法, Euclidean algorithm) 또는 유클리드 알고리즘은 2개의 자연수 또는 정식(整式)의 최대공약수를 구하는 알고리즘의 하나이다. 호제법이란 말은 두 수가 서로(互) 상대방 수를 나누어(除)서 결국 원하는 수를 얻는 알고리즘을 나타낸다. 2개의 자연수(또는 정식) a, b에 대해서 a를 b로 나눈 나머지를 r이라 하면(단, a>b), a와 b의 최대공약수는 b와 r의 최대공약수와 같다. "
      ],
      "metadata": {
        "id": "ChIE-ci-I1nh"
      }
    },
    {
      "cell_type": "markdown",
      "source": [
        "1071과 1029의 최대공약수를 구하면,\n",
        "\n",
        "1071은 1029로 나누어 떨어지지 않기 때문에, 1071을 1029로 나눈 나머지를 구한다. ≫ 42\n",
        "1029는 42로 나누어 떨어지지 않기 때문에, 1029를 42로 나눈 나머지를 구한다. ≫ 21\n",
        "42는 21로 나누어 떨어진다.\n",
        "따라서, 최대공약수는 21이다."
      ],
      "metadata": {
        "id": "uND0Z1ewKQAI"
      }
    },
    {
      "cell_type": "markdown",
      "source": [
        "두 수 a,b에 대해서(a>b),\n",
        "\n",
        "a = q * b + r  라 하면 q 는 몫, r은 나머지가 됩니다.\n",
        "\n",
        "이 때,  gcd(a,b) = gcd(b,r) 이 성립하고\n",
        "\n",
        "이와 같은 과정을 계속 거쳐\n",
        "\n",
        "나머지가 0이 되었을 때 나누는 수가 a,b의 최대공약수에 만족하게 됩니다.\n",
        "\n"
      ],
      "metadata": {
        "id": "fT2pCbhdNu6r"
      }
    },
    {
      "cell_type": "code",
      "execution_count": 3,
      "metadata": {
        "id": "toQ-ytLUI0SC"
      },
      "outputs": [],
      "source": [
        "def gcd(m,n):\n",
        "    if n == 0:\n",
        "        return m\n",
        "    mod = m % n\n",
        "    if mod != 0:\n",
        "        m, n = n, mod\n",
        "        print('M: {0}  N: {1}'.format(m, n))\n",
        "        return gcd(m, n)\n",
        "    else:\n",
        "        return n"
      ]
    },
    {
      "cell_type": "markdown",
      "source": [
        "   78696과 19332의 최대공약수를 구하면,\n",
        "    78696 ＝ 19332×4 ＋ 1368\n",
        "    19332 ＝ 1368×14 ＋ 180\n",
        "     1368 ＝ 180×7 ＋ 108\n",
        "      180 ＝ 108×1 ＋ 72\n",
        "      108 ＝ 72×1 ＋ 36\n",
        "       72 ＝ 36×2 ＋ 0\n",
        "       따라서, 최대공약수는 36이다."
      ],
      "metadata": {
        "id": "MaEWamPUL_AX"
      }
    },
    {
      "cell_type": "code",
      "source": [
        "def gcd_2(a, b):\n",
        "    while b > 0:\n",
        "        a, b = b, (a % b)\n",
        "    return a"
      ],
      "metadata": {
        "id": "aNZTZe2eLSu8"
      },
      "execution_count": 12,
      "outputs": []
    },
    {
      "cell_type": "code",
      "source": [
        "gcd(150, 35)"
      ],
      "metadata": {
        "colab": {
          "base_uri": "https://localhost:8080/"
        },
        "id": "Tc3QubNPOKhp",
        "outputId": "0012122f-7e01-40cb-98c5-701e566cb1a5"
      },
      "execution_count": 8,
      "outputs": [
        {
          "output_type": "stream",
          "name": "stdout",
          "text": [
            "M: 35  N: 10\n",
            "M: 10  N: 5\n"
          ]
        },
        {
          "output_type": "execute_result",
          "data": {
            "text/plain": [
              "5"
            ]
          },
          "metadata": {},
          "execution_count": 8
        }
      ]
    },
    {
      "cell_type": "code",
      "source": [
        "gcd_2(150, 35)"
      ],
      "metadata": {
        "colab": {
          "base_uri": "https://localhost:8080/"
        },
        "id": "8G-UGLbkNEPZ",
        "outputId": "2f61670a-6d45-48b6-ad0b-614481ce1c0f"
      },
      "execution_count": 14,
      "outputs": [
        {
          "output_type": "stream",
          "name": "stdout",
          "text": [
            "M: 150  N: 35\n",
            "M: 35  N: 10\n",
            "M: 10  N: 5\n",
            "M: 5  N: 0\n"
          ]
        },
        {
          "output_type": "execute_result",
          "data": {
            "text/plain": [
              "5"
            ]
          },
          "metadata": {},
          "execution_count": 14
        }
      ]
    },
    {
      "cell_type": "code",
      "source": [
        ""
      ],
      "metadata": {
        "id": "fpSwiOzbNTl7"
      },
      "execution_count": null,
      "outputs": []
    }
  ]
}