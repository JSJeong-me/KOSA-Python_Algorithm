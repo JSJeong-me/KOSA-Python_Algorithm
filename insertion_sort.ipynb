{
  "nbformat": 4,
  "nbformat_minor": 0,
  "metadata": {
    "colab": {
      "name": "Untitled11.ipynb",
      "provenance": [],
      "authorship_tag": "ABX9TyPncV/wZHXtKwhH/A+yzjQC",
      "include_colab_link": true
    },
    "kernelspec": {
      "name": "python3",
      "display_name": "Python 3"
    },
    "language_info": {
      "name": "python"
    }
  },
  "cells": [
    {
      "cell_type": "markdown",
      "metadata": {
        "id": "view-in-github",
        "colab_type": "text"
      },
      "source": [
        "<a href=\"https://colab.research.google.com/github/JSJeong-me/KOSA-Python_Algorithm/blob/main/insertion_sort.ipynb\" target=\"_parent\"><img src=\"https://colab.research.google.com/assets/colab-badge.svg\" alt=\"Open In Colab\"/></a>"
      ]
    },
    {
      "cell_type": "code",
      "metadata": {
        "id": "m8I5E-a0Q3Qu"
      },
      "source": [
        "data = [9, 7, 6, 15, 17, 5, 10, 11]"
      ],
      "execution_count": 10,
      "outputs": []
    },
    {
      "cell_type": "code",
      "metadata": {
        "id": "1ZNOAwXJQ5In"
      },
      "source": [
        "def insertion_sort(arr):\n",
        "    # Insertion Sort\n",
        "    # arr --> unsorted array\n",
        "    \n",
        "    # loop over unsorted sub-array\n",
        "    for i in range(1, len(arr)):\n",
        "        # x --> first value in unsorted sub-array\n",
        "        x = arr[i]\n",
        "        # j --> current index in sorted sub-array\n",
        "        j = i-1\n",
        "        # move backwards through sorted array\n",
        "        # until list exhausted or x >= sorted array value\n",
        "        while j >= 0 and x < arr[j] : \n",
        "                arr[j + 1] = arr[j] \n",
        "                j -= 1\n",
        "        # insert x when j is correct index\n",
        "        arr[j + 1] = x\n",
        "    \n",
        "    return arr"
      ],
      "execution_count": 11,
      "outputs": []
    },
    {
      "cell_type": "code",
      "metadata": {
        "id": "acRZpNyARJvT"
      },
      "source": [
        "sorted_data = insertion_sort(data)"
      ],
      "execution_count": 12,
      "outputs": []
    },
    {
      "cell_type": "code",
      "metadata": {
        "colab": {
          "base_uri": "https://localhost:8080/"
        },
        "id": "NfIBi5k1RRoo",
        "outputId": "6210cc17-a740-4de3-a452-e98fe5d46207"
      },
      "source": [
        "sorted_data"
      ],
      "execution_count": 13,
      "outputs": [
        {
          "output_type": "execute_result",
          "data": {
            "text/plain": [
              "[5, 6, 7, 9, 10, 11, 15, 17]"
            ]
          },
          "metadata": {},
          "execution_count": 13
        }
      ]
    },
    {
      "cell_type": "code",
      "metadata": {
        "id": "htF3xFf9RVgJ"
      },
      "source": [
        ""
      ],
      "execution_count": 13,
      "outputs": []
    }
  ]
}