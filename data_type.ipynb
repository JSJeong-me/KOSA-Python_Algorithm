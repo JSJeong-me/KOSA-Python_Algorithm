{
  "nbformat": 4,
  "nbformat_minor": 0,
  "metadata": {
    "colab": {
      "name": "Untitled24.ipynb",
      "provenance": [],
      "authorship_tag": "ABX9TyOMJt/k7bl3NzHbwMYCTGiJ",
      "include_colab_link": true
    },
    "kernelspec": {
      "name": "python3",
      "display_name": "Python 3"
    },
    "language_info": {
      "name": "python"
    }
  },
  "cells": [
    {
      "cell_type": "markdown",
      "metadata": {
        "id": "view-in-github",
        "colab_type": "text"
      },
      "source": [
        "<a href=\"https://colab.research.google.com/github/JSJeong-me/KOSA-Python_Algorithm/blob/main/data_type.ipynb\" target=\"_parent\"><img src=\"https://colab.research.google.com/assets/colab-badge.svg\" alt=\"Open In Colab\"/></a>"
      ]
    },
    {
      "cell_type": "markdown",
      "source": [
        "### Python Collections (Arrays)\n",
        "There are four collection data types in the Python programming language:\n",
        "\n",
        "### List is a collection which is ordered and changeable. Allows duplicate members.\n",
        "### Tuple is a collection which is ordered and unchangeable. Allows duplicate members.\n",
        "### Set is a collection which is unordered, unchangeable*, and unindexed. No duplicate members.\n",
        "### Dictionary is a collection which is ordered** and changeable. No duplicate members."
      ],
      "metadata": {
        "id": "jm2XaH4ARW-N"
      }
    },
    {
      "cell_type": "code",
      "execution_count": null,
      "metadata": {
        "id": "AnCRKOhoRWLJ"
      },
      "outputs": [],
      "source": [
        ""
      ]
    }
  ]
}