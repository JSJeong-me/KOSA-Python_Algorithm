{
  "nbformat": 4,
  "nbformat_minor": 0,
  "metadata": {
    "colab": {
      "name": "Untitled16.ipynb",
      "provenance": [],
      "authorship_tag": "ABX9TyOV/5O26JdSQpXXXLPps67t",
      "include_colab_link": true
    },
    "kernelspec": {
      "name": "python3",
      "display_name": "Python 3"
    },
    "language_info": {
      "name": "python"
    }
  },
  "cells": [
    {
      "cell_type": "markdown",
      "metadata": {
        "id": "view-in-github",
        "colab_type": "text"
      },
      "source": [
        "<a href=\"https://colab.research.google.com/github/JSJeong-me/KOSA-Python_Algorithm/blob/main/list_filter_1.ipynb\" target=\"_parent\"><img src=\"https://colab.research.google.com/assets/colab-badge.svg\" alt=\"Open In Colab\"/></a>"
      ]
    },
    {
      "cell_type": "code",
      "metadata": {
        "id": "-it6tdhgsftw"
      },
      "source": [
        "import re\n",
        "import pandas as pd\n",
        "\n",
        "df = pd.read_excel('dgul-template.xlsx')"
      ],
      "execution_count": 1,
      "outputs": []
    },
    {
      "cell_type": "code",
      "metadata": {
        "colab": {
          "base_uri": "https://localhost:8080/"
        },
        "id": "5BlKNkUVksMS",
        "outputId": "567bbedd-065c-4c11-f78d-b9f4d108a9ee"
      },
      "source": [
        "\n",
        "\n",
        "string = '0%10대 \\\n",
        "1%20대 \\\n",
        "5%30대 \\\n",
        "23%40대 \\\n",
        "45%50대 \\\n",
        "26%60대↑'\n",
        "numbers = re.findall(r'\\d+', string)\n",
        "\n",
        "print(numbers)"
      ],
      "execution_count": 1,
      "outputs": [
        {
          "output_type": "stream",
          "name": "stdout",
          "text": [
            "['0', '10', '1', '20', '5', '30', '23', '40', '45', '50', '26', '60']\n"
          ]
        }
      ]
    },
    {
      "cell_type": "code",
      "metadata": {
        "colab": {
          "base_uri": "https://localhost:8080/"
        },
        "id": "XW4JBSuCk-gg",
        "outputId": "0d555f55-7acb-4558-d917-0b64e976a4c6"
      },
      "source": [
        "new_list=[]\n",
        "\n",
        "for i in range(1, 12, 2):\n",
        "  print(numbers[i-1])\n",
        "  new_list.append(numbers[i-1])"
      ],
      "execution_count": 2,
      "outputs": [
        {
          "output_type": "stream",
          "name": "stdout",
          "text": [
            "0\n",
            "1\n",
            "5\n",
            "23\n",
            "45\n",
            "26\n"
          ]
        }
      ]
    },
    {
      "cell_type": "code",
      "metadata": {
        "colab": {
          "base_uri": "https://localhost:8080/"
        },
        "id": "0BQovne4ngey",
        "outputId": "6fcace4a-e871-4688-98cc-33a0b7039364"
      },
      "source": [
        "new_list"
      ],
      "execution_count": 3,
      "outputs": [
        {
          "output_type": "execute_result",
          "data": {
            "text/plain": [
              "['0', '1', '5', '23', '45', '26']"
            ]
          },
          "metadata": {},
          "execution_count": 3
        }
      ]
    },
    {
      "cell_type": "code",
      "metadata": {
        "id": "N7QaGZSBnh8H"
      },
      "source": [
        ""
      ],
      "execution_count": 4,
      "outputs": []
    },
    {
      "cell_type": "code",
      "metadata": {
        "id": "U-a0j1JQ5hRM",
        "colab": {
          "base_uri": "https://localhost:8080/"
        },
        "outputId": "a8461a87-32dd-41aa-98fa-9efeba954ff7"
      },
      "source": [
        "for i in new_list:\n",
        "  print(i)"
      ],
      "execution_count": 5,
      "outputs": [
        {
          "output_type": "stream",
          "name": "stdout",
          "text": [
            "0\n",
            "1\n",
            "5\n",
            "23\n",
            "45\n",
            "26\n"
          ]
        }
      ]
    },
    {
      "cell_type": "code",
      "metadata": {
        "id": "efwdrPKhi28P",
        "outputId": "55ff8aaa-d1e6-46c9-d3e7-096edce938c0",
        "colab": {
          "base_uri": "https://localhost:8080/"
        }
      },
      "source": [
        "df.index.stop"
      ],
      "execution_count": 6,
      "outputs": [
        {
          "output_type": "execute_result",
          "data": {
            "text/plain": [
              "3"
            ]
          },
          "metadata": {},
          "execution_count": 6
        }
      ]
    },
    {
      "cell_type": "code",
      "metadata": {
        "id": "8S7pI7j7li0j",
        "outputId": "4861bc92-eeed-4889-9c0c-6ece79c05028",
        "colab": {
          "base_uri": "https://localhost:8080/"
        }
      },
      "source": [
        "df.iloc[0,8]"
      ],
      "execution_count": 7,
      "outputs": [
        {
          "output_type": "execute_result",
          "data": {
            "text/plain": [
              "nan"
            ]
          },
          "metadata": {},
          "execution_count": 7
        }
      ]
    },
    {
      "cell_type": "code",
      "metadata": {
        "id": "5iSEppRluP0X",
        "outputId": "997db3dd-39d6-4a00-b198-93eeb1c48b2c",
        "colab": {
          "base_uri": "https://localhost:8080/"
        }
      },
      "source": [
        "df.columns"
      ],
      "execution_count": 16,
      "outputs": [
        {
          "output_type": "execute_result",
          "data": {
            "text/plain": [
              "Index(['Unnamed: 0', 'Unnamed: 0.1', 'Unnamed: 0.1.1', '기사 작정실', 'URL', '현재댓글',\n",
              "       '작성자삭제', '규정미준수', '남자', '여자', '임시값', '10대', '20대', '30대', '40대', '50대',\n",
              "       '60대'],\n",
              "      dtype='object')"
            ]
          },
          "metadata": {},
          "execution_count": 16
        }
      ]
    },
    {
      "cell_type": "code",
      "metadata": {
        "id": "spDecYgCtYCF"
      },
      "source": [
        "def convert(*string):\n",
        "  new_list=[]\n",
        "  numbers = re.findall(r'\\d+', string)\n",
        "\n",
        "  for i in range(1, 12, 2):\n",
        "    print(numbers[i-1])\n",
        "    new_list.append(numbers[i-1])\n",
        "\n",
        "  return new_list"
      ],
      "execution_count": 2,
      "outputs": []
    },
    {
      "cell_type": "code",
      "metadata": {
        "id": "aAO31wYL3VHd",
        "outputId": "35f7f299-ae30-4521-e35c-65f5d074e46a",
        "colab": {
          "base_uri": "https://localhost:8080/"
        }
      },
      "source": [
        "row_no=0\n",
        "new_list = []\n",
        "message = ''\n",
        "\n",
        "while row_no < df.index.stop:\n",
        "  j=0\n",
        "  message = df.loc[row_no, '임시값']\n",
        "  print(message)\n",
        "  '''\n",
        "  new_list = convert(message)\n",
        "\n",
        "  for i in new_list:\n",
        "      df.iloc[row_no, 8+j] = i\n",
        "      j += 1\n",
        "      '''\n",
        "  row_no +=1"
      ],
      "execution_count": 4,
      "outputs": [
        {
          "output_type": "stream",
          "name": "stdout",
          "text": [
            "1\n",
            "1\n",
            "1\n"
          ]
        }
      ]
    },
    {
      "cell_type": "code",
      "metadata": {
        "id": "Y6_s8x1p5HKv",
        "colab": {
          "base_uri": "https://localhost:8080/"
        },
        "outputId": "d7e00b79-1eb3-47b4-db99-20586e4705bf"
      },
      "source": [
        "df.columns"
      ],
      "execution_count": 9,
      "outputs": [
        {
          "output_type": "execute_result",
          "data": {
            "text/plain": [
              "Index(['Unnamed: 0', 'Unnamed: 0.1', '기사 작정실', 'URL', '현재댓글', '작성자삭제', '규정미준수',\n",
              "       '남자', '여자', '임시값', '10대', '20대', '30대', '40대', '50대', '60대'],\n",
              "      dtype='object')"
            ]
          },
          "metadata": {},
          "execution_count": 9
        }
      ]
    },
    {
      "cell_type": "code",
      "metadata": {
        "id": "fPHmhaBe2_By",
        "colab": {
          "base_uri": "https://localhost:8080/",
          "height": 143
        },
        "outputId": "6a995991-6669-4dad-9434-8edd951933ae"
      },
      "source": [
        "df.loc[:, ['10대', '20대', '30대', '40대', '50대', '60대']]"
      ],
      "execution_count": 10,
      "outputs": [
        {
          "output_type": "execute_result",
          "data": {
            "text/html": [
              "<div>\n",
              "<style scoped>\n",
              "    .dataframe tbody tr th:only-of-type {\n",
              "        vertical-align: middle;\n",
              "    }\n",
              "\n",
              "    .dataframe tbody tr th {\n",
              "        vertical-align: top;\n",
              "    }\n",
              "\n",
              "    .dataframe thead th {\n",
              "        text-align: right;\n",
              "    }\n",
              "</style>\n",
              "<table border=\"1\" class=\"dataframe\">\n",
              "  <thead>\n",
              "    <tr style=\"text-align: right;\">\n",
              "      <th></th>\n",
              "      <th>10대</th>\n",
              "      <th>20대</th>\n",
              "      <th>30대</th>\n",
              "      <th>40대</th>\n",
              "      <th>50대</th>\n",
              "      <th>60대</th>\n",
              "    </tr>\n",
              "  </thead>\n",
              "  <tbody>\n",
              "    <tr>\n",
              "      <th>0</th>\n",
              "      <td>5</td>\n",
              "      <td>23</td>\n",
              "      <td>45</td>\n",
              "      <td>26</td>\n",
              "      <td>26</td>\n",
              "      <td>26</td>\n",
              "    </tr>\n",
              "    <tr>\n",
              "      <th>1</th>\n",
              "      <td>5</td>\n",
              "      <td>23</td>\n",
              "      <td>45</td>\n",
              "      <td>26</td>\n",
              "      <td>26</td>\n",
              "      <td>26</td>\n",
              "    </tr>\n",
              "    <tr>\n",
              "      <th>2</th>\n",
              "      <td>5</td>\n",
              "      <td>23</td>\n",
              "      <td>45</td>\n",
              "      <td>26</td>\n",
              "      <td>26</td>\n",
              "      <td>26</td>\n",
              "    </tr>\n",
              "  </tbody>\n",
              "</table>\n",
              "</div>"
            ],
            "text/plain": [
              "  10대 20대 30대 40대  50대  60대\n",
              "0   5  23  45  26   26   26\n",
              "1   5  23  45  26   26   26\n",
              "2   5  23  45  26   26   26"
            ]
          },
          "metadata": {},
          "execution_count": 10
        }
      ]
    },
    {
      "cell_type": "code",
      "metadata": {
        "id": "L8DO721P3Brr"
      },
      "source": [
        "df.to_excel('dgul-template.xlsx')"
      ],
      "execution_count": 11,
      "outputs": []
    }
  ]
}