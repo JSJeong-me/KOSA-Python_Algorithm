{
  "nbformat": 4,
  "nbformat_minor": 0,
  "metadata": {
    "colab": {
      "name": "Untitled16.ipynb",
      "provenance": [],
      "authorship_tag": "ABX9TyNJIVrl+ucS/9+0OpRmSvs6",
      "include_colab_link": true
    },
    "kernelspec": {
      "name": "python3",
      "display_name": "Python 3"
    },
    "language_info": {
      "name": "python"
    }
  },
  "cells": [
    {
      "cell_type": "markdown",
      "metadata": {
        "id": "view-in-github",
        "colab_type": "text"
      },
      "source": [
        "<a href=\"https://colab.research.google.com/github/JSJeong-me/KOSA-Python_Algorithm/blob/main/list_filter_1.ipynb\" target=\"_parent\"><img src=\"https://colab.research.google.com/assets/colab-badge.svg\" alt=\"Open In Colab\"/></a>"
      ]
    },
    {
      "cell_type": "code",
      "metadata": {
        "id": "-it6tdhgsftw"
      },
      "source": [
        "import re\n",
        "import pandas as pd\n",
        "\n",
        "df = pd.read_excel('dgul-template.xlsx')"
      ],
      "execution_count": 1,
      "outputs": []
    },
    {
      "cell_type": "code",
      "metadata": {
        "id": "JVnWH0_cyQ5o"
      },
      "source": [
        "def convert(string):\n",
        "  new_list=[]\n",
        "  numbers = re.findall(r'\\d+', string)\n",
        "\n",
        "  for i in range(1, 12, 2):\n",
        "    print(numbers[i-1])\n",
        "    new_list.append(numbers[i-1])\n",
        "\n",
        "  return new_list"
      ],
      "execution_count": 2,
      "outputs": []
    },
    {
      "cell_type": "code",
      "metadata": {
        "id": "efwdrPKhi28P",
        "colab": {
          "base_uri": "https://localhost:8080/"
        },
        "outputId": "9d66a5fe-2bbf-49f9-daf7-e053ced5395c"
      },
      "source": [
        "df.index.stop"
      ],
      "execution_count": 3,
      "outputs": [
        {
          "output_type": "execute_result",
          "data": {
            "text/plain": [
              "3"
            ]
          },
          "metadata": {},
          "execution_count": 3
        }
      ]
    },
    {
      "cell_type": "code",
      "metadata": {
        "id": "5iSEppRluP0X",
        "colab": {
          "base_uri": "https://localhost:8080/"
        },
        "outputId": "378718d4-9027-4a7f-9e6e-7ea5fffee720"
      },
      "source": [
        "df.columns"
      ],
      "execution_count": 4,
      "outputs": [
        {
          "output_type": "execute_result",
          "data": {
            "text/plain": [
              "Index(['기사 작정실', 'URL', '현재댓글', '작성자삭제', '규정미준수', '남자', '여자', '임시값', '10대',\n",
              "       '20대', '30대', '40대', '50대', '60대'],\n",
              "      dtype='object')"
            ]
          },
          "metadata": {},
          "execution_count": 4
        }
      ]
    },
    {
      "cell_type": "code",
      "metadata": {
        "id": "spDecYgCtYCF"
      },
      "source": [
        ""
      ],
      "execution_count": 4,
      "outputs": []
    },
    {
      "cell_type": "code",
      "metadata": {
        "id": "aAO31wYL3VHd",
        "colab": {
          "base_uri": "https://localhost:8080/"
        },
        "outputId": "78b9421c-e9f7-4f6b-9cf9-289a4fd17af3"
      },
      "source": [
        "row_no=0\n",
        "new_list = []\n",
        "message = []\n",
        "\n",
        "while row_no < df.index.stop:\n",
        "  j=0\n",
        "  message = df.loc[row_no, '임시값']\n",
        "  #print(message)\n",
        "\n",
        "  new_string = convert(message)\n",
        "\n",
        "  for i in new_string:\n",
        "      df.iloc[row_no, 8+j] = i\n",
        "      j += 1\n",
        "\n",
        "  row_no +=1"
      ],
      "execution_count": 5,
      "outputs": [
        {
          "output_type": "stream",
          "name": "stdout",
          "text": [
            "0\n",
            "7\n",
            "27\n",
            "33\n",
            "21\n",
            "11\n",
            "1\n",
            "10\n",
            "37\n",
            "37\n",
            "12\n",
            "4\n",
            "0\n",
            "4\n",
            "17\n",
            "38\n",
            "28\n",
            "14\n"
          ]
        }
      ]
    },
    {
      "cell_type": "code",
      "metadata": {
        "id": "fPHmhaBe2_By",
        "colab": {
          "base_uri": "https://localhost:8080/",
          "height": 143
        },
        "outputId": "7b64fa5c-81e1-4325-ebf7-8ba80adbf74d"
      },
      "source": [
        "df.loc[:, ['10대', '20대', '30대', '40대', '50대', '60대']]"
      ],
      "execution_count": 6,
      "outputs": [
        {
          "output_type": "execute_result",
          "data": {
            "text/html": [
              "<div>\n",
              "<style scoped>\n",
              "    .dataframe tbody tr th:only-of-type {\n",
              "        vertical-align: middle;\n",
              "    }\n",
              "\n",
              "    .dataframe tbody tr th {\n",
              "        vertical-align: top;\n",
              "    }\n",
              "\n",
              "    .dataframe thead th {\n",
              "        text-align: right;\n",
              "    }\n",
              "</style>\n",
              "<table border=\"1\" class=\"dataframe\">\n",
              "  <thead>\n",
              "    <tr style=\"text-align: right;\">\n",
              "      <th></th>\n",
              "      <th>10대</th>\n",
              "      <th>20대</th>\n",
              "      <th>30대</th>\n",
              "      <th>40대</th>\n",
              "      <th>50대</th>\n",
              "      <th>60대</th>\n",
              "    </tr>\n",
              "  </thead>\n",
              "  <tbody>\n",
              "    <tr>\n",
              "      <th>0</th>\n",
              "      <td>0</td>\n",
              "      <td>7</td>\n",
              "      <td>27</td>\n",
              "      <td>33</td>\n",
              "      <td>21</td>\n",
              "      <td>11</td>\n",
              "    </tr>\n",
              "    <tr>\n",
              "      <th>1</th>\n",
              "      <td>1</td>\n",
              "      <td>10</td>\n",
              "      <td>37</td>\n",
              "      <td>37</td>\n",
              "      <td>12</td>\n",
              "      <td>4</td>\n",
              "    </tr>\n",
              "    <tr>\n",
              "      <th>2</th>\n",
              "      <td>0</td>\n",
              "      <td>4</td>\n",
              "      <td>17</td>\n",
              "      <td>38</td>\n",
              "      <td>28</td>\n",
              "      <td>14</td>\n",
              "    </tr>\n",
              "  </tbody>\n",
              "</table>\n",
              "</div>"
            ],
            "text/plain": [
              "  10대 20대 30대 40대 50대 60대\n",
              "0   0   7  27  33  21  11\n",
              "1   1  10  37  37  12   4\n",
              "2   0   4  17  38  28  14"
            ]
          },
          "metadata": {},
          "execution_count": 6
        }
      ]
    },
    {
      "cell_type": "code",
      "metadata": {
        "id": "L8DO721P3Brr"
      },
      "source": [
        "df.to_excel('dgul-template.xlsx')"
      ],
      "execution_count": 7,
      "outputs": []
    }
  ]
}