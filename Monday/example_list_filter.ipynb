{
  "nbformat": 4,
  "nbformat_minor": 0,
  "metadata": {
    "colab": {
      "name": "Untitled16.ipynb",
      "provenance": [],
      "authorship_tag": "ABX9TyM1PiCWVnBzglp/vA2xUoT0",
      "include_colab_link": true
    },
    "kernelspec": {
      "name": "python3",
      "display_name": "Python 3"
    },
    "language_info": {
      "name": "python"
    }
  },
  "cells": [
    {
      "cell_type": "markdown",
      "metadata": {
        "id": "view-in-github",
        "colab_type": "text"
      },
      "source": [
        "<a href=\"https://colab.research.google.com/github/JSJeong-me/KOSA-Python_Algorithm/blob/main/Monday/example_list_filter.ipynb\" target=\"_parent\"><img src=\"https://colab.research.google.com/assets/colab-badge.svg\" alt=\"Open In Colab\"/></a>"
      ]
    },
    {
      "cell_type": "code",
      "metadata": {
        "id": "5BlKNkUVksMS"
      },
      "source": [
        "import re\n",
        "\n",
        "string = '0%10대 \\\n",
        "1%20대 \\\n",
        "5%30대 \\\n",
        "23%40대 \\\n",
        "45%50대 \\\n",
        "26%60대↑'\n",
        "numbers = re.findall(r'\\d+', string)\n",
        "\n",
        "print(numbers)"
      ],
      "execution_count": null,
      "outputs": []
    },
    {
      "cell_type": "code",
      "metadata": {
        "id": "XW4JBSuCk-gg"
      },
      "source": [
        "new_list=[]\n",
        "\n",
        "for i in range(1, 12, 2):\n",
        "  print(numbers[i-1])\n",
        "  new_list.append(numbers[i-1])"
      ],
      "execution_count": null,
      "outputs": []
    },
    {
      "cell_type": "code",
      "metadata": {
        "id": "0BQovne4ngey"
      },
      "source": [
        "new_list"
      ],
      "execution_count": null,
      "outputs": []
    },
    {
      "cell_type": "code",
      "metadata": {
        "id": "N7QaGZSBnh8H"
      },
      "source": [
        "import pandas as pd\n",
        "\n",
        "df = pd.read_excel('dgul-template.xlsx')"
      ],
      "execution_count": null,
      "outputs": []
    },
    {
      "cell_type": "code",
      "metadata": {
        "id": "U-a0j1JQ5hRM"
      },
      "source": [
        "for i in new_list:\n",
        "  print(i)"
      ],
      "execution_count": null,
      "outputs": []
    },
    {
      "cell_type": "code",
      "metadata": {
        "id": "aAO31wYL3VHd"
      },
      "source": [
        "j=0\n",
        "for i in new_list:\n",
        "  df.iloc[6, 8+j] = i\n",
        "  j += 1"
      ],
      "execution_count": null,
      "outputs": []
    },
    {
      "cell_type": "code",
      "metadata": {
        "id": "Y6_s8x1p5HKv"
      },
      "source": [
        "df.columns"
      ],
      "execution_count": null,
      "outputs": []
    },
    {
      "cell_type": "code",
      "metadata": {
        "id": "fPHmhaBe2_By"
      },
      "source": [
        "df.loc[6, ['10대', '20대', '30대', '40대', '50대', '60대']]"
      ],
      "execution_count": null,
      "outputs": []
    },
    {
      "cell_type": "code",
      "metadata": {
        "id": "L8DO721P3Brr"
      },
      "source": [
        ""
      ],
      "execution_count": null,
      "outputs": []
    }
  ]
}