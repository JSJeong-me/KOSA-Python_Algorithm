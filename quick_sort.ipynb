{
  "nbformat": 4,
  "nbformat_minor": 0,
  "metadata": {
    "colab": {
      "name": "Untitled11.ipynb",
      "provenance": [],
      "authorship_tag": "ABX9TyPdY6Q97xN8UrlTPjcEJ7Zm",
      "include_colab_link": true
    },
    "kernelspec": {
      "name": "python3",
      "display_name": "Python 3"
    },
    "language_info": {
      "name": "python"
    }
  },
  "cells": [
    {
      "cell_type": "markdown",
      "metadata": {
        "id": "view-in-github",
        "colab_type": "text"
      },
      "source": [
        "<a href=\"https://colab.research.google.com/github/JSJeong-me/KOSA-Python_Algorithm/blob/main/quick_sort.ipynb\" target=\"_parent\"><img src=\"https://colab.research.google.com/assets/colab-badge.svg\" alt=\"Open In Colab\"/></a>"
      ]
    },
    {
      "cell_type": "code",
      "metadata": {
        "id": "m8I5E-a0Q3Qu"
      },
      "source": [
        "data = [38, 27, 49, 3, 9, 82, 10]"
      ],
      "execution_count": 1,
      "outputs": []
    },
    {
      "cell_type": "code",
      "metadata": {
        "id": "1ZNOAwXJQ5In"
      },
      "source": [
        "def quick_sort(array):\n",
        "    # 리스트가 하나 이하의 원소를 가지면 종료\n",
        "    if len(array) <= 1: return array\n",
        "    \n",
        "    pivot, tail = array[0], array[1:]\n",
        "    \n",
        "    leftSide = [x for x in tail if x <= pivot]\n",
        "    rightSide = [x for x in tail if x > pivot]\n",
        "    \n",
        "    return quick_sort(leftSide) + [pivot] + quick_sort(rightSide)"
      ],
      "execution_count": 2,
      "outputs": []
    },
    {
      "cell_type": "code",
      "metadata": {
        "id": "acRZpNyARJvT"
      },
      "source": [
        "sorted_data = quick_sort(data)"
      ],
      "execution_count": 3,
      "outputs": []
    },
    {
      "cell_type": "code",
      "metadata": {
        "colab": {
          "base_uri": "https://localhost:8080/"
        },
        "id": "NfIBi5k1RRoo",
        "outputId": "685e3437-8dec-400c-9c6b-1a2640b2c784"
      },
      "source": [
        "sorted_data"
      ],
      "execution_count": 4,
      "outputs": [
        {
          "output_type": "execute_result",
          "data": {
            "text/plain": [
              "[3, 9, 10, 27, 38, 49, 82]"
            ]
          },
          "metadata": {},
          "execution_count": 4
        }
      ]
    },
    {
      "cell_type": "code",
      "metadata": {
        "id": "htF3xFf9RVgJ"
      },
      "source": [
        ""
      ],
      "execution_count": 4,
      "outputs": []
    }
  ]
}