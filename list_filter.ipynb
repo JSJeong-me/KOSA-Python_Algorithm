{
  "nbformat": 4,
  "nbformat_minor": 0,
  "metadata": {
    "colab": {
      "name": "Untitled16.ipynb",
      "provenance": [],
      "authorship_tag": "ABX9TyM1PiCWVnBzglp/vA2xUoT0",
      "include_colab_link": true
    },
    "kernelspec": {
      "name": "python3",
      "display_name": "Python 3"
    },
    "language_info": {
      "name": "python"
    }
  },
  "cells": [
    {
      "cell_type": "markdown",
      "metadata": {
        "id": "view-in-github",
        "colab_type": "text"
      },
      "source": [
        "<a href=\"https://colab.research.google.com/github/JSJeong-me/KOSA-Python_Algorithm/blob/main/list_filter.ipynb\" target=\"_parent\"><img src=\"https://colab.research.google.com/assets/colab-badge.svg\" alt=\"Open In Colab\"/></a>"
      ]
    },
    {
      "cell_type": "code",
      "metadata": {
        "colab": {
          "base_uri": "https://localhost:8080/"
        },
        "id": "5BlKNkUVksMS",
        "outputId": "79472e65-f11d-46af-e008-09e7414e5490"
      },
      "source": [
        "import re\n",
        "\n",
        "string = '0%10대 \\\n",
        "1%20대 \\\n",
        "5%30대 \\\n",
        "23%40대 \\\n",
        "45%50대 \\\n",
        "26%60대↑'\n",
        "numbers = re.findall(r'\\d+', string)\n",
        "\n",
        "print(numbers)"
      ],
      "execution_count": 1,
      "outputs": [
        {
          "output_type": "stream",
          "name": "stdout",
          "text": [
            "['0', '10', '1', '20', '5', '30', '23', '40', '45', '50', '26', '60']\n"
          ]
        }
      ]
    },
    {
      "cell_type": "code",
      "metadata": {
        "colab": {
          "base_uri": "https://localhost:8080/"
        },
        "id": "XW4JBSuCk-gg",
        "outputId": "18e5eb2a-85da-4eec-aa1e-fdf07218b159"
      },
      "source": [
        "new_list=[]\n",
        "\n",
        "for i in range(1, 12, 2):\n",
        "  print(numbers[i-1])\n",
        "  new_list.append(numbers[i-1])"
      ],
      "execution_count": 2,
      "outputs": [
        {
          "output_type": "stream",
          "name": "stdout",
          "text": [
            "0\n",
            "1\n",
            "5\n",
            "23\n",
            "45\n",
            "26\n"
          ]
        }
      ]
    },
    {
      "cell_type": "code",
      "metadata": {
        "colab": {
          "base_uri": "https://localhost:8080/"
        },
        "id": "0BQovne4ngey",
        "outputId": "3c5e7af3-3c3a-4f87-e78b-887d2533f1c7"
      },
      "source": [
        "new_list"
      ],
      "execution_count": 3,
      "outputs": [
        {
          "output_type": "execute_result",
          "data": {
            "text/plain": [
              "['0', '1', '5', '23', '45', '26']"
            ]
          },
          "metadata": {},
          "execution_count": 3
        }
      ]
    },
    {
      "cell_type": "code",
      "metadata": {
        "id": "N7QaGZSBnh8H"
      },
      "source": [
        "import pandas as pd\n",
        "\n",
        "df = pd.read_excel('dgul-template.xlsx')"
      ],
      "execution_count": 4,
      "outputs": []
    },
    {
      "cell_type": "code",
      "metadata": {
        "id": "U-a0j1JQ5hRM",
        "outputId": "3b0e1f1a-774a-4467-8a77-3f0fb480c548",
        "colab": {
          "base_uri": "https://localhost:8080/"
        }
      },
      "source": [
        "for i in new_list:\n",
        "  print(i)"
      ],
      "execution_count": 5,
      "outputs": [
        {
          "output_type": "stream",
          "name": "stdout",
          "text": [
            "0\n",
            "1\n",
            "5\n",
            "23\n",
            "45\n",
            "26\n"
          ]
        }
      ]
    },
    {
      "cell_type": "code",
      "metadata": {
        "id": "aAO31wYL3VHd"
      },
      "source": [
        "j=0\n",
        "for i in new_list:\n",
        "  df.iloc[6, 8+j] = i\n",
        "  j += 1"
      ],
      "execution_count": 6,
      "outputs": []
    },
    {
      "cell_type": "code",
      "metadata": {
        "id": "Y6_s8x1p5HKv",
        "outputId": "612da155-c6f7-47fe-bc16-20895ea42cf7",
        "colab": {
          "base_uri": "https://localhost:8080/"
        }
      },
      "source": [
        "df.columns"
      ],
      "execution_count": 7,
      "outputs": [
        {
          "output_type": "execute_result",
          "data": {
            "text/plain": [
              "Index(['기사 작정실', 'URL', '현재댓글', '작성자삭제', '규정미준수', '남자', '여자', 'Unnamed: 7',\n",
              "       '10대', '20대', '30대', '40대', '50대', '60대'],\n",
              "      dtype='object')"
            ]
          },
          "metadata": {},
          "execution_count": 7
        }
      ]
    },
    {
      "cell_type": "code",
      "metadata": {
        "id": "fPHmhaBe2_By",
        "outputId": "7855aec5-a3dd-4a34-a753-a20da236a835",
        "colab": {
          "base_uri": "https://localhost:8080/"
        }
      },
      "source": [
        "df.loc[6, ['10대', '20대', '30대', '40대', '50대', '60대']]"
      ],
      "execution_count": 8,
      "outputs": [
        {
          "output_type": "execute_result",
          "data": {
            "text/plain": [
              "10대     0\n",
              "20대     1\n",
              "30대     5\n",
              "40대    23\n",
              "50대    45\n",
              "60대    26\n",
              "Name: 6, dtype: object"
            ]
          },
          "metadata": {},
          "execution_count": 8
        }
      ]
    },
    {
      "cell_type": "code",
      "metadata": {
        "id": "L8DO721P3Brr"
      },
      "source": [
        ""
      ],
      "execution_count": 8,
      "outputs": []
    }
  ]
}