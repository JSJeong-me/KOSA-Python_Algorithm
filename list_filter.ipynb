{
  "nbformat": 4,
  "nbformat_minor": 0,
  "metadata": {
    "colab": {
      "name": "Untitled16.ipynb",
      "provenance": [],
      "authorship_tag": "ABX9TyPVRXgRsH8wPcE0H/mhNwtO",
      "include_colab_link": true
    },
    "kernelspec": {
      "name": "python3",
      "display_name": "Python 3"
    },
    "language_info": {
      "name": "python"
    }
  },
  "cells": [
    {
      "cell_type": "markdown",
      "metadata": {
        "id": "view-in-github",
        "colab_type": "text"
      },
      "source": [
        "<a href=\"https://colab.research.google.com/github/JSJeong-me/KOSA-Python_Algorithm/blob/main/list_filter.ipynb\" target=\"_parent\"><img src=\"https://colab.research.google.com/assets/colab-badge.svg\" alt=\"Open In Colab\"/></a>"
      ]
    },
    {
      "cell_type": "code",
      "metadata": {
        "colab": {
          "base_uri": "https://localhost:8080/"
        },
        "id": "5BlKNkUVksMS",
        "outputId": "fcae3ea9-8bcd-4fb2-bdb7-47eb8c75c39e"
      },
      "source": [
        "import re\n",
        "\n",
        "string = '0%10대 \\\n",
        "1%20대 \\\n",
        "5%30대 \\\n",
        "23%40대 \\\n",
        "45%50대 \\\n",
        "26%60대↑'\n",
        "numbers = re.findall(r'\\d+', string)\n",
        "\n",
        "print(numbers)"
      ],
      "execution_count": 1,
      "outputs": [
        {
          "output_type": "stream",
          "name": "stdout",
          "text": [
            "['0', '10', '1', '20', '5', '30', '23', '40', '45', '50', '26', '60']\n"
          ]
        }
      ]
    },
    {
      "cell_type": "code",
      "metadata": {
        "colab": {
          "base_uri": "https://localhost:8080/"
        },
        "id": "XW4JBSuCk-gg",
        "outputId": "0b0f0dae-0db8-4a16-fe5c-2a6735944edb"
      },
      "source": [
        "new_list=[]\n",
        "\n",
        "for i in range(1, 12, 2):\n",
        "  print(numbers[i-1])\n",
        "  new_list.append(numbers[i-1])"
      ],
      "execution_count": 11,
      "outputs": [
        {
          "output_type": "stream",
          "name": "stdout",
          "text": [
            "0\n",
            "1\n",
            "5\n",
            "23\n",
            "45\n",
            "26\n"
          ]
        }
      ]
    },
    {
      "cell_type": "code",
      "metadata": {
        "colab": {
          "base_uri": "https://localhost:8080/"
        },
        "id": "0BQovne4ngey",
        "outputId": "9e01544e-ac1f-4b44-9682-76ab0eaebd87"
      },
      "source": [
        "new_list"
      ],
      "execution_count": 12,
      "outputs": [
        {
          "output_type": "execute_result",
          "data": {
            "text/plain": [
              "['0', '1', '5', '23', '45', '26']"
            ]
          },
          "metadata": {},
          "execution_count": 12
        }
      ]
    },
    {
      "cell_type": "code",
      "metadata": {
        "id": "N7QaGZSBnh8H"
      },
      "source": [
        ""
      ],
      "execution_count": null,
      "outputs": []
    }
  ]
}