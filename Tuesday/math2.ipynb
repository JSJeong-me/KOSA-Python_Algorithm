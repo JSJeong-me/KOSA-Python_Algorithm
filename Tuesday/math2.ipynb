{
  "nbformat": 4,
  "nbformat_minor": 0,
  "metadata": {
    "colab": {
      "name": "Untitled49.ipynb",
      "provenance": [],
      "authorship_tag": "ABX9TyObywEL69AB5N8ctwM1PnHw",
      "include_colab_link": true
    },
    "kernelspec": {
      "name": "python3",
      "display_name": "Python 3"
    },
    "language_info": {
      "name": "python"
    }
  },
  "cells": [
    {
      "cell_type": "markdown",
      "metadata": {
        "id": "view-in-github",
        "colab_type": "text"
      },
      "source": [
        "<a href=\"https://colab.research.google.com/github/JSJeong-me/KOSA-Python_Algorithm/blob/main/Tuesday/math2.ipynb\" target=\"_parent\"><img src=\"https://colab.research.google.com/assets/colab-badge.svg\" alt=\"Open In Colab\"/></a>"
      ]
    },
    {
      "cell_type": "code",
      "execution_count": null,
      "metadata": {
        "id": "2QX7uijxYp65"
      },
      "outputs": [],
      "source": [
        "def addition(aa, bb=20):\n",
        "  return aa+bb"
      ]
    },
    {
      "cell_type": "code",
      "source": [
        "def multi(cc, dd):\n",
        "  return cc*dd"
      ],
      "metadata": {
        "id": "drKmEll0Y12f"
      },
      "execution_count": null,
      "outputs": []
    },
    {
      "cell_type": "code",
      "source": [
        "def divided(ee, ff):\n",
        "  y1 = ee//ff\n",
        "  y2 = ee%ff\n",
        "  return y1, y2"
      ],
      "metadata": {
        "id": "pxjce8QvZXZ5"
      },
      "execution_count": null,
      "outputs": []
    },
    {
      "cell_type": "code",
      "source": [
        "r_val = addition(10)"
      ],
      "metadata": {
        "id": "ebMQU0MzY-Qm"
      },
      "execution_count": null,
      "outputs": []
    },
    {
      "cell_type": "code",
      "source": [
        "r_val"
      ],
      "metadata": {
        "id": "fIdPHUTrZJjG"
      },
      "execution_count": null,
      "outputs": []
    },
    {
      "cell_type": "code",
      "source": [
        "x1, x2 = divided(15, 5)"
      ],
      "metadata": {
        "id": "wio4RtJ0ZI3B"
      },
      "execution_count": null,
      "outputs": []
    },
    {
      "cell_type": "code",
      "source": [
        "x1"
      ],
      "metadata": {
        "id": "L3hbi0kmaBGY"
      },
      "execution_count": null,
      "outputs": []
    },
    {
      "cell_type": "code",
      "source": [
        "x2"
      ],
      "metadata": {
        "id": "jeGWIqibZ9S-"
      },
      "execution_count": null,
      "outputs": []
    },
    {
      "cell_type": "code",
      "source": [
        ""
      ],
      "metadata": {
        "id": "2pNkSMjcaC3I"
      },
      "execution_count": null,
      "outputs": []
    }
  ]
}