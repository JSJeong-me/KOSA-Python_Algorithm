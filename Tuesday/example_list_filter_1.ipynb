{
  "nbformat": 4,
  "nbformat_minor": 0,
  "metadata": {
    "colab": {
      "name": "Untitled16.ipynb",
      "provenance": [],
      "authorship_tag": "ABX9TyPYBhoOoopckRKnuHcWLCsp",
      "include_colab_link": true
    },
    "kernelspec": {
      "name": "python3",
      "display_name": "Python 3"
    },
    "language_info": {
      "name": "python"
    }
  },
  "cells": [
    {
      "cell_type": "markdown",
      "metadata": {
        "id": "view-in-github",
        "colab_type": "text"
      },
      "source": [
        "<a href=\"https://colab.research.google.com/github/JSJeong-me/KOSA-Python_Algorithm/blob/main/Tuesday/example_list_filter_1.ipynb\" target=\"_parent\"><img src=\"https://colab.research.google.com/assets/colab-badge.svg\" alt=\"Open In Colab\"/></a>"
      ]
    },
    {
      "cell_type": "code",
      "metadata": {
        "id": "5BlKNkUVksMS"
      },
      "source": [
        "import re\n",
        "import pandas as pd"
      ],
      "execution_count": 1,
      "outputs": []
    },
    {
      "cell_type": "code",
      "source": [
        "df = pd.read_excel('dgul-template_1.xlsx')"
      ],
      "metadata": {
        "id": "k2TJC0DZ3ID3"
      },
      "execution_count": 14,
      "outputs": []
    },
    {
      "cell_type": "code",
      "source": [
        "df.columns"
      ],
      "metadata": {
        "id": "zE5ZMmVp3h4E",
        "outputId": "f2208295-d504-4161-fd47-7057d7749a26",
        "colab": {
          "base_uri": "https://localhost:8080/"
        }
      },
      "execution_count": 3,
      "outputs": [
        {
          "output_type": "execute_result",
          "data": {
            "text/plain": [
              "Index(['기사 작성실', 'URL', '현재댓글', '작성자삭제', '규정미준수', '남자', '여자', '임시값', '10대',\n",
              "       '20대', '30대', '40대', '50대', '60대'],\n",
              "      dtype='object')"
            ]
          },
          "metadata": {},
          "execution_count": 3
        }
      ]
    },
    {
      "cell_type": "code",
      "source": [
        "df_col = ['10대','20대', '30대', '40대', '50대', '60대']"
      ],
      "metadata": {
        "id": "DSLEvpZy3hwV"
      },
      "execution_count": 15,
      "outputs": []
    },
    {
      "cell_type": "code",
      "source": [
        "new_df = df[df_col]"
      ],
      "metadata": {
        "id": "SR-jhqri3hsQ"
      },
      "execution_count": 16,
      "outputs": []
    },
    {
      "cell_type": "code",
      "source": [
        "new_df"
      ],
      "metadata": {
        "id": "4N1X_9f9-MfT"
      },
      "execution_count": null,
      "outputs": []
    },
    {
      "cell_type": "code",
      "source": [
        "df.loc[2,'임시값']"
      ],
      "metadata": {
        "id": "dMqzS1wZ4I6Z",
        "outputId": "e19b2a0e-a3a7-4d64-c5d6-8c03b99c9197",
        "colab": {
          "base_uri": "https://localhost:8080/",
          "height": 35
        }
      },
      "execution_count": 7,
      "outputs": [
        {
          "output_type": "execute_result",
          "data": {
            "application/vnd.google.colaboratory.intrinsic+json": {
              "type": "string"
            },
            "text/plain": [
              "'0%10대\\r\\n2%20대\\r\\n11%30대\\r\\n27%40대\\r\\n36%50대\\r\\n23%60대↑'"
            ]
          },
          "metadata": {},
          "execution_count": 7
        }
      ]
    },
    {
      "cell_type": "code",
      "source": [
        "df.index.stop"
      ],
      "metadata": {
        "id": "7nHUkdy94I29",
        "outputId": "15b002bc-fcc2-46c3-9bed-790ad7b46ad1",
        "colab": {
          "base_uri": "https://localhost:8080/"
        }
      },
      "execution_count": 8,
      "outputs": [
        {
          "output_type": "execute_result",
          "data": {
            "text/plain": [
              "9"
            ]
          },
          "metadata": {},
          "execution_count": 8
        }
      ]
    },
    {
      "cell_type": "code",
      "source": [
        ""
      ],
      "metadata": {
        "id": "S7DpSn-W5K7z"
      },
      "execution_count": 8,
      "outputs": []
    },
    {
      "cell_type": "code",
      "source": [
        "def convert(string):\n",
        "  numbers = re.findall(r'\\d+', string)\n",
        "  new_list=[]\n",
        "\n",
        "  for i in range(1, 12, 2):\n",
        "    print(numbers[i-1])\n",
        "    new_list.append(numbers[i-1])\n",
        "\n",
        "  return new_list"
      ],
      "metadata": {
        "id": "cjUAsPDi4Iy4"
      },
      "execution_count": 9,
      "outputs": []
    },
    {
      "cell_type": "code",
      "source": [
        "row_no=0\n",
        "new_string = []\n",
        "message = []\n",
        "\n",
        "while row_no < df.index.stop:\n",
        "  j=0\n",
        "  message = df.loc[row_no,'임시값']\n",
        "  \n",
        "  new_string = convert(message)\n",
        "\n",
        "  for i in new_string:\n",
        "    df.iloc[row_no, 8+j] = i\n",
        "    j += 1\n",
        "\n",
        "  row_no += 1"
      ],
      "metadata": {
        "id": "Tbncw1bj4IvG",
        "outputId": "c629dc05-454f-443f-ef51-c5babc7dff06",
        "colab": {
          "base_uri": "https://localhost:8080/"
        }
      },
      "execution_count": 10,
      "outputs": [
        {
          "output_type": "stream",
          "name": "stdout",
          "text": [
            "0\n",
            "2\n",
            "12\n",
            "22\n",
            "37\n",
            "27\n",
            "0\n",
            "3\n",
            "12\n",
            "28\n",
            "33\n",
            "24\n",
            "0\n",
            "2\n",
            "11\n",
            "27\n",
            "36\n",
            "23\n",
            "0\n",
            "4\n",
            "10\n",
            "33\n",
            "35\n",
            "18\n",
            "0\n",
            "2\n",
            "11\n",
            "25\n",
            "35\n",
            "27\n",
            "0\n",
            "1\n",
            "6\n",
            "21\n",
            "43\n",
            "30\n",
            "0\n",
            "2\n",
            "5\n",
            "27\n",
            "47\n",
            "19\n",
            "0\n",
            "1\n",
            "6\n",
            "29\n",
            "44\n",
            "20\n",
            "0\n",
            "2\n",
            "11\n",
            "20\n",
            "36\n",
            "30\n"
          ]
        }
      ]
    },
    {
      "cell_type": "code",
      "source": [
        ""
      ],
      "metadata": {
        "id": "iRb4wg184Ift"
      },
      "execution_count": 10,
      "outputs": []
    },
    {
      "cell_type": "code",
      "metadata": {
        "id": "aAO31wYL3VHd"
      },
      "source": [
        ""
      ],
      "execution_count": 10,
      "outputs": []
    },
    {
      "cell_type": "code",
      "metadata": {
        "id": "fPHmhaBe2_By",
        "outputId": "86e4dcbd-33d6-42e7-9c74-57131c0a32a7",
        "colab": {
          "base_uri": "https://localhost:8080/"
        }
      },
      "source": [
        "df.loc[6, ['10대', '20대', '30대', '40대', '50대', '60대']]"
      ],
      "execution_count": 11,
      "outputs": [
        {
          "output_type": "execute_result",
          "data": {
            "text/plain": [
              "10대     0\n",
              "20대     2\n",
              "30대     5\n",
              "40대    27\n",
              "50대    47\n",
              "60대    19\n",
              "Name: 6, dtype: object"
            ]
          },
          "metadata": {},
          "execution_count": 11
        }
      ]
    },
    {
      "cell_type": "code",
      "metadata": {
        "id": "L8DO721P3Brr"
      },
      "source": [
        "df.to_excel('dgul-template_1.xlsx')"
      ],
      "execution_count": 12,
      "outputs": []
    }
  ]
}