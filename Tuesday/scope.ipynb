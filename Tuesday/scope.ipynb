{
  "nbformat": 4,
  "nbformat_minor": 0,
  "metadata": {
    "colab": {
      "name": "Untitled47.ipynb",
      "provenance": [],
      "authorship_tag": "ABX9TyMVIID8D4ZhoMTOxvBe8UHP",
      "include_colab_link": true
    },
    "kernelspec": {
      "name": "python3",
      "display_name": "Python 3"
    },
    "language_info": {
      "name": "python"
    }
  },
  "cells": [
    {
      "cell_type": "markdown",
      "metadata": {
        "id": "view-in-github",
        "colab_type": "text"
      },
      "source": [
        "<a href=\"https://colab.research.google.com/github/JSJeong-me/KOSA-Python_Algorithm/blob/main/Tuesday/scope.ipynb\" target=\"_parent\"><img src=\"https://colab.research.google.com/assets/colab-badge.svg\" alt=\"Open In Colab\"/></a>"
      ]
    },
    {
      "cell_type": "markdown",
      "source": [
        "Python Scope\n",
        "A variable is only available from inside the region it is created. This is called scope."
      ],
      "metadata": {
        "id": "6d6FluaJCDSQ"
      }
    },
    {
      "cell_type": "markdown",
      "source": [
        "Local Scope\n",
        "A variable created inside a function belongs to the local scope of that function, and can only be used inside that function."
      ],
      "metadata": {
        "id": "8kvaF0ITCKwr"
      }
    },
    {
      "cell_type": "markdown",
      "source": [
        "A variable created inside a function is available inside that function:"
      ],
      "metadata": {
        "id": "m_euRnXaCQCy"
      }
    },
    {
      "cell_type": "code",
      "execution_count": null,
      "metadata": {
        "id": "uVyihXV7CCbL"
      },
      "outputs": [],
      "source": [
        "def myfunc():\n",
        "  x = 300\n",
        "  print(x)\n",
        "\n",
        "myfunc()"
      ]
    },
    {
      "cell_type": "markdown",
      "source": [
        "Function Inside Function\n",
        "As explained in the example above, the variable x is not available outside the function, but it is available for any function inside the function:"
      ],
      "metadata": {
        "id": "zzKPJ2P6CWJ3"
      }
    },
    {
      "cell_type": "markdown",
      "source": [
        "The local variable can be accessed from a function within the function:"
      ],
      "metadata": {
        "id": "YDppXAGmCb0O"
      }
    },
    {
      "cell_type": "code",
      "source": [
        "def myfunc():\n",
        "  x = 300\n",
        "  def myinnerfunc():\n",
        "    print(x)\n",
        "  myinnerfunc()\n",
        "\n",
        "myfunc()"
      ],
      "metadata": {
        "id": "ShVM1bQ8CZJa"
      },
      "execution_count": null,
      "outputs": []
    },
    {
      "cell_type": "markdown",
      "source": [
        "Global Scope\n",
        "A variable created in the main body of the Python code is a global variable and belongs to the global scope.\n",
        "\n",
        "Global variables are available from within any scope, global and local."
      ],
      "metadata": {
        "id": "zxHJR5HYCq8q"
      }
    },
    {
      "cell_type": "markdown",
      "source": [
        "A variable created outside of a function is global and can be used by anyone:"
      ],
      "metadata": {
        "id": "uHXzxZTpCtCN"
      }
    },
    {
      "cell_type": "code",
      "source": [
        "x = 300\n",
        "\n",
        "def myfunc():\n",
        "  print(x)\n",
        "\n",
        "myfunc()\n",
        "\n",
        "print(x)"
      ],
      "metadata": {
        "id": "ZQ0j1ajJCsDT"
      },
      "execution_count": null,
      "outputs": []
    },
    {
      "cell_type": "markdown",
      "source": [
        ""
      ],
      "metadata": {
        "id": "18xAj7cnC0J4"
      }
    },
    {
      "cell_type": "markdown",
      "source": [
        "Naming Variables\n",
        "If you operate with the same variable name inside and outside of a function, Python will treat them as two separate variables, one available in the global scope (outside the function) and one available in the local scope (inside the function):"
      ],
      "metadata": {
        "id": "Yo-T8BH3C2b6"
      }
    },
    {
      "cell_type": "markdown",
      "source": [
        "The function will print the local x, and then the code will print the global x:"
      ],
      "metadata": {
        "id": "Nj0N7lnjC4GM"
      }
    },
    {
      "cell_type": "code",
      "source": [
        "x = 300\n",
        "\n",
        "def myfunc():\n",
        "  x = 200\n",
        "  print(x)\n",
        "\n",
        "myfunc()\n",
        "\n",
        "print(x)"
      ],
      "metadata": {
        "id": "sNkjUfwaC7nj"
      },
      "execution_count": null,
      "outputs": []
    },
    {
      "cell_type": "markdown",
      "source": [
        "Global Keyword\n",
        "If you need to create a global variable, but are stuck in the local scope, you can use the global keyword.\n",
        "\n",
        "The global keyword makes the variable global."
      ],
      "metadata": {
        "id": "SV55a_VODDiO"
      }
    },
    {
      "cell_type": "markdown",
      "source": [
        "If you use the global keyword, the variable belongs to the global scope:"
      ],
      "metadata": {
        "id": "dM4XhJXTDF70"
      }
    },
    {
      "cell_type": "code",
      "source": [
        "def myfunc():\n",
        "  global x\n",
        "  x = 300\n",
        "\n",
        "myfunc()\n",
        "\n",
        "print(x)"
      ],
      "metadata": {
        "id": "hzxAjqTjDKmg"
      },
      "execution_count": null,
      "outputs": []
    },
    {
      "cell_type": "markdown",
      "source": [
        "To change the value of a global variable inside a function, refer to the variable by using the global keyword:"
      ],
      "metadata": {
        "id": "pnzrEpSuDO0p"
      }
    },
    {
      "cell_type": "code",
      "source": [
        "x = 300\n",
        "\n",
        "def myfunc():\n",
        "  global x\n",
        "  x = 200\n",
        "\n",
        "myfunc()\n",
        "\n",
        "print(x)"
      ],
      "metadata": {
        "id": "PNumDFh3DcO-"
      },
      "execution_count": null,
      "outputs": []
    }
  ]
}