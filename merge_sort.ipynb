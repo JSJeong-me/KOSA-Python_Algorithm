{
  "nbformat": 4,
  "nbformat_minor": 0,
  "metadata": {
    "colab": {
      "name": "Untitled11.ipynb",
      "provenance": [],
      "authorship_tag": "ABX9TyPlfZnCRxz/vrYFj3wLP7po",
      "include_colab_link": true
    },
    "kernelspec": {
      "name": "python3",
      "display_name": "Python 3"
    },
    "language_info": {
      "name": "python"
    }
  },
  "cells": [
    {
      "cell_type": "markdown",
      "metadata": {
        "id": "view-in-github",
        "colab_type": "text"
      },
      "source": [
        "<a href=\"https://colab.research.google.com/github/JSJeong-me/KOSA-Python_Algorithm/blob/main/merge_sort.ipynb\" target=\"_parent\"><img src=\"https://colab.research.google.com/assets/colab-badge.svg\" alt=\"Open In Colab\"/></a>"
      ]
    },
    {
      "cell_type": "code",
      "metadata": {
        "id": "m8I5E-a0Q3Qu"
      },
      "source": [
        "data = [38, 27, 49, 3, 9, 82, 10]"
      ],
      "execution_count": 1,
      "outputs": []
    },
    {
      "cell_type": "code",
      "metadata": {
        "id": "1ZNOAwXJQ5In"
      },
      "source": [
        "def merge(left, right):\n",
        "  # joins two unsorted arrays in sorted order\n",
        "  # left --> Left unsorted array\n",
        "  # right --> Right unsorted array\n",
        "  \n",
        "  if not len(left) or not len(right): \n",
        "      return left or right \n",
        "    \n",
        "  # initialise a result array cache \n",
        "  # index counts for left and right\n",
        "  result = [] \n",
        "  i, j = 0, 0\n",
        "\n",
        "  while (len(result) < len(left) + len(right)):\n",
        "      # append smallest left[i] or right[j] to result\n",
        "      # largest plays on and compares next i/j \n",
        "      # append remaining if left/right exhausted\n",
        "      # repeat unti result cahce is full\n",
        "\n",
        "      if left[i] < right[j]: \n",
        "          result.append(left[i]) \n",
        "          i+= 1\n",
        "      else: \n",
        "          result.append(right[j]) \n",
        "          j+= 1\n",
        "      if i == len(left) or j == len(right): \n",
        "          result.extend(left[i:] or right[j:]) \n",
        "          break \n",
        "          \n",
        "  return result \n",
        "  \n",
        "def merge_sort(list):\n",
        "    # Merge Sort:\n",
        "    # recusrively splits and merges sub-arrays\n",
        "    # list --> unsorted array\n",
        "    \n",
        "    # stop spliting if list of size 1\n",
        "    if len(list) < 2: \n",
        "        return list\n",
        "  \n",
        "    # recursively split list at the middle\n",
        "    middle = int(len(list)/2)\n",
        "    left = merge_sort(list[:middle]) \n",
        "    right = merge_sort(list[middle:]) \n",
        "  \n",
        "    # return merged list\n",
        "    return merge(left, right)"
      ],
      "execution_count": 2,
      "outputs": []
    },
    {
      "cell_type": "code",
      "metadata": {
        "id": "acRZpNyARJvT"
      },
      "source": [
        "sorted_data = merge_sort(data)"
      ],
      "execution_count": 3,
      "outputs": []
    },
    {
      "cell_type": "code",
      "metadata": {
        "colab": {
          "base_uri": "https://localhost:8080/"
        },
        "id": "NfIBi5k1RRoo",
        "outputId": "4470f8d7-a3c9-4af5-ed96-5efd39d19dc2"
      },
      "source": [
        "sorted_data"
      ],
      "execution_count": 4,
      "outputs": [
        {
          "output_type": "execute_result",
          "data": {
            "text/plain": [
              "[3, 9, 10, 27, 38, 49, 82]"
            ]
          },
          "metadata": {},
          "execution_count": 4
        }
      ]
    },
    {
      "cell_type": "code",
      "metadata": {
        "id": "htF3xFf9RVgJ"
      },
      "source": [
        ""
      ],
      "execution_count": 4,
      "outputs": []
    }
  ]
}